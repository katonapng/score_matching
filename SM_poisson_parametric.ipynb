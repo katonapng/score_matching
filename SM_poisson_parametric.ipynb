{
 "cells": [
  {
   "cell_type": "code",
   "execution_count": 1,
   "metadata": {},
   "outputs": [],
   "source": [
    "import time\n",
    "\n",
    "import matplotlib.pyplot as plt\n",
    "import numpy as np\n",
    "import torch\n",
    "import torch.nn as nn\n",
    "from scipy.integrate import dblquad\n",
    "from torch.nn.utils.rnn import pad_sequence\n",
    "from tqdm import tqdm\n",
    "\n",
    "from dataloader import FastTensorDataLoader"
   ]
  },
  {
   "cell_type": "markdown",
   "metadata": {},
   "source": [
    "# Data Generation"
   ]
  },
  {
   "cell_type": "code",
   "execution_count": 2,
   "metadata": {},
   "outputs": [],
   "source": [
    "def generate_poisson_points(kappa, scale, region):\n",
    "    \"\"\"\n",
    "    Generate a Poisson Point Process in a 2D region based on intensity function.\n",
    "    \n",
    "    Parameters:\n",
    "    - kappa (torch.Tensor): The intensity parameter (scalar or vector).\n",
    "    - scale (torch.Tensor): The scale parameter (scalar or vector).\n",
    "    - region (tuple): The spatial domain as ((xmin, xmax), (ymin, ymax)).\n",
    "    \n",
    "    Returns:\n",
    "    - points (numpy.ndarray): The simulated points of the PPP.\n",
    "    \"\"\"\n",
    "    (xmin, xmax), (ymin, ymax) = region\n",
    "\n",
    "    area = (xmax - xmin) * (ymax - ymin)\n",
    "    max_intensity = kappa * area  # Maximum value of intensity\n",
    "    num_samples = np.random.poisson(lam=max_intensity)[0]\n",
    "\n",
    "    x_candidates = np.random.uniform(xmin, xmax, size=num_samples)\n",
    "    y_candidates = np.random.uniform(ymin, ymax, size=num_samples)\n",
    "    candidates = torch.tensor(np.stack([x_candidates, y_candidates], axis=1), dtype=torch.float32)\n",
    "    \n",
    "    squared_norm = torch.sum(candidates**2, dim=-1)\n",
    "    intensity = kappa * torch.exp(-squared_norm / scale**2)\n",
    "    \n",
    "    uniform_samples = torch.rand(num_samples)  # Uniform samples for rejection\n",
    "    acceptance_mask = uniform_samples < (intensity / kappa)\n",
    "    \n",
    "    accepted_points = candidates[acceptance_mask]\n",
    "    return accepted_points.numpy()"
   ]
  },
  {
   "cell_type": "code",
   "execution_count": 3,
   "metadata": {},
   "outputs": [],
   "source": [
    "kappa = torch.tensor([1000.0])\n",
    "scale = torch.tensor([0.5])\n",
    "\n",
    "region = ((-1, 1), (-1, 1))"
   ]
  },
  {
   "cell_type": "code",
   "execution_count": 12,
   "metadata": {},
   "outputs": [],
   "source": [
    "num_samples = 1000\n",
    "samples = []\n",
    "for _ in range(num_samples):\n",
    "    x_t = generate_poisson_points(kappa, scale, region)\n",
    "    samples.append(torch.tensor(x_t))"
   ]
  },
  {
   "cell_type": "markdown",
   "metadata": {},
   "source": [
    "## Data Loader"
   ]
  },
  {
   "cell_type": "code",
   "execution_count": 13,
   "metadata": {},
   "outputs": [
    {
     "name": "stderr",
     "output_type": "stream",
     "text": [
      "C:\\Users\\79217\\AppData\\Local\\Temp\\ipykernel_18836\\214776262.py:3: UserWarning: To copy construct from a tensor, it is recommended to use sourceTensor.clone().detach() or sourceTensor.clone().detach().requires_grad_(True), rather than torch.tensor(sourceTensor).\n",
      "  samples_torch = [torch.tensor(s, dtype=torch.float32) for s in samples]\n"
     ]
    }
   ],
   "source": [
    "train_ratio = 0.8\n",
    "batch_size = 32\n",
    "samples_torch = [torch.tensor(s, dtype=torch.float32) for s in samples]\n",
    "\n",
    "X = pad_sequence(samples_torch, batch_first=True, padding_value=0)\n",
    "\n",
    "lengths = torch.tensor([len(s) for s in samples_torch], dtype=torch.int64)\n",
    "lengths_expanded = lengths.unsqueeze(-1).expand(-1, X.shape[1])\n",
    "X = torch.cat((X, lengths_expanded.unsqueeze(-1)), dim=-1)\n",
    "\n",
    "m = len(X)\n",
    "train_size = int(train_ratio * m)\n",
    "\n",
    "X_train = X[:train_size]\n",
    "X_test = X[train_size:]\n",
    "\n",
    "loader_train = FastTensorDataLoader(X_train, batch_size=batch_size, shuffle=True)\n",
    "loader_test = FastTensorDataLoader(X_test, batch_size=batch_size, shuffle=False)"
   ]
  },
  {
   "cell_type": "markdown",
   "metadata": {},
   "source": [
    "# Parametric Poisson"
   ]
  },
  {
   "cell_type": "markdown",
   "metadata": {},
   "source": [
    "## Optimization function"
   ]
  },
  {
   "cell_type": "code",
   "execution_count": 14,
   "metadata": {},
   "outputs": [],
   "source": [
    "def optimize_theta(loader_train, nn_model, num_epochs=1000, learning_rate=1e-3):\n",
    "    \"\"\"\n",
    "    Optimizes the model parameters.\n",
    "\n",
    "    Args:\n",
    "        loader_train (DataLoader): DataLoader for training data.\n",
    "        nn_model (callable): Function that creates the neural network model.\n",
    "        num_epochs (int): Number of training epochs.\n",
    "        learning_rate (float): Learning rate.\n",
    "\n",
    "    Returns:\n",
    "        tuple: (trained model, losses)\n",
    "    \"\"\"\n",
    "    model = nn_model()\n",
    "    optimizer = torch.optim.Rprop(model.parameters(), lr=learning_rate)\n",
    "    avg_epoch_losses = []\n",
    "    avg_epoch_real_losses = []\n",
    "    estimated_scale = []\n",
    "\n",
    "    pbar = tqdm(range(num_epochs), desc=\"Training\", unit=\"epoch\")\n",
    "\n",
    "    for _ in pbar:\n",
    "        epoch_loss_sum = 0\n",
    "        epoch_real_loss_sum = 0\n",
    "        num_batches = len(loader_train)\n",
    "\n",
    "        start_time = time.time()\n",
    "        for X_batch in loader_train:\n",
    "            optimizer.zero_grad()\n",
    "\n",
    "            loss, real_loss = model.loss(X_batch[0])\n",
    "\n",
    "            loss.backward()\n",
    "            optimizer.step()\n",
    "\n",
    "            batch_loss = loss.item()\n",
    "            batch_real_loss = real_loss.item()\n",
    "            epoch_loss_sum += batch_loss\n",
    "            epoch_real_loss_sum += batch_real_loss\n",
    "        \n",
    "            estimated_scale.append(model.scale.detach().numpy().copy())\n",
    "        avg_loss = epoch_loss_sum / num_batches\n",
    "        avg_real_loss = epoch_real_loss_sum / num_batches\n",
    "        avg_epoch_losses.append(avg_loss)\n",
    "        avg_epoch_real_losses.append(avg_real_loss)\n",
    "\n",
    "        elapsed_time = time.time() - start_time\n",
    "        pbar.set_postfix({\n",
    "            \"Train Loss\": f\"{avg_loss:.4f}\",\n",
    "            \"Real Loss\": f\"{avg_real_loss:.4f}\",\n",
    "            \"Time/Epoch\": f\"{elapsed_time:.2f}s\"\n",
    "        })\n",
    "    \n",
    "    return model, avg_epoch_losses, avg_epoch_real_losses, estimated_scale\n"
   ]
  },
  {
   "cell_type": "markdown",
   "metadata": {},
   "source": [
    "## Poisson Model"
   ]
  },
  {
   "cell_type": "code",
   "execution_count": 15,
   "metadata": {},
   "outputs": [],
   "source": [
    "class Poisson(nn.Module):\n",
    "    def __init__(self):\n",
    "        super().__init__()\n",
    "        torch.manual_seed(123)\n",
    "        self.scale = nn.Parameter(torch.tensor([torch.abs(torch.randn(1))], dtype=torch.float32))\n",
    "\n",
    "    def forward(self, x):\n",
    "        squared_norm = torch.sum(x**2, dim=-1)\n",
    "        return - squared_norm / self.scale**2\n",
    "\n",
    "    def compute_psi(self, x):\n",
    "        x.requires_grad_()\n",
    "        nn_output = self.forward(x)\n",
    "        psi = torch.autograd.grad(nn_output, x, grad_outputs=torch.ones_like(nn_output), create_graph=True)[0]\n",
    "        return psi\n",
    "    \n",
    "    def poisson_psi(self, x):\n",
    "        return -2*x/self.scale**2\n",
    "    \n",
    "    def J(self, x_t, lengths):\n",
    "        max_length = lengths.max()\n",
    "        psi_x = self.poisson_psi(x_t)  \n",
    "\n",
    "        norm_squared = (psi_x ** 2).sum(dim=-1) \n",
    "\n",
    "        divergence = -2 / self.scale**2 * x_t.shape[-1]\n",
    "        mask = torch.arange(max_length, device=x_t.device).unsqueeze(0) < lengths.unsqueeze(1)\n",
    "        divergence = divergence*mask\n",
    "        norm_squared = norm_squared*mask\n",
    "\n",
    "        J_value = divergence + 0.5 * norm_squared\n",
    "        J_value = J_value.sum(dim=-1) / lengths\n",
    "\n",
    "        return J_value.mean()\n",
    "\n",
    "    def loss(self, points):\n",
    "        lengths = points[:, 0, -1].to(dtype=torch.int64)\n",
    "        max_length = lengths.max()\n",
    "        x_t = points[:, :max_length, :-1]  # Pad to max length in batch\n",
    " \n",
    "        psi_x = self.compute_psi(x_t)\n",
    "        psi_x_real = self.poisson_psi(x_t)\n",
    "\n",
    "        if not torch.allclose(psi_x, psi_x_real, atol=1e-4):\n",
    "            raise ValueError(\n",
    "                f\"Calculated psi value {psi_x} \\\n",
    "                is different from the analytical solution {psi_x_real}\"\n",
    "                )\n",
    "        norm_squared = (psi_x ** 2).sum(dim=-1)  # Sum across all dimensions\n",
    "\n",
    "        # padded values give none zero divergence -> mask \n",
    "        mask = torch.arange(max_length, device=x_t.device).unsqueeze(0) < lengths.unsqueeze(1)\n",
    "        divergence = 0\n",
    "        for i in range(x_t.shape[-1]):  # Iterate over the features of x\n",
    "            gradient = torch.autograd.grad(psi_x[..., i].sum(), x_t, retain_graph=True, create_graph=True)[0]\n",
    "            divergence += gradient[..., i]  # Sum over each feature dimension\n",
    "        \n",
    "        divergence = divergence * mask\n",
    "        norm_squared = norm_squared * mask\n",
    "        \n",
    "        total_loss = 0.5 * norm_squared + divergence\n",
    "        total_loss = total_loss.sum(dim=-1)/lengths  # Sum over the time dimension\n",
    "        J = self.J(x_t, lengths)\n",
    "        if not torch.allclose(total_loss.mean(), J, atol=1e-4):\n",
    "            raise ValueError(\n",
    "                f\"Calculated total loss value {total_loss.mean()} \\\n",
    "                is different from the analytical solution {J}\"\n",
    "                )\n",
    "        \n",
    "        return total_loss.mean(), J"
   ]
  },
  {
   "cell_type": "markdown",
   "metadata": {},
   "source": [
    "### Batch processing"
   ]
  },
  {
   "cell_type": "code",
   "execution_count": 16,
   "metadata": {},
   "outputs": [
    {
     "name": "stderr",
     "output_type": "stream",
     "text": [
      "Training: 100%|██████████| 100/100 [00:39<00:00,  2.54epoch/s, Train Loss=-8.3747, Real Loss=-8.3747, Time/Epoch=0.37s]\n"
     ]
    }
   ],
   "source": [
    "epochs = 100\n",
    "model, losses, real_losses, estimated_scale = optimize_theta(\n",
    "    loader_train, Poisson, num_epochs=epochs, learning_rate=1e-2,\n",
    ")"
   ]
  },
  {
   "cell_type": "code",
   "execution_count": 17,
   "metadata": {},
   "outputs": [
    {
     "data": {
      "image/png": "[encoded data removed]",
      "text/plain": [
       "<Figure size 640x480 with 1 Axes>"
      ]
     },
     "metadata": {},
     "output_type": "display_data"
    }
   ],
   "source": [
    "plt.plot(losses, label=\"Score matching loss\")\n",
    "plt.plot(real_losses, linestyle='--', label=\"Analytical loss\")\n",
    "plt.xlabel('Epoch')\n",
    "plt.ylabel('Loss')\n",
    "plt.title('Loss Convergence for Score Matching')\n",
    "plt.legend()\n",
    "plt.grid(True)\n",
    "plt.show()\n"
   ]
  },
  {
   "cell_type": "code",
   "execution_count": 18,
   "metadata": {},
   "outputs": [
    {
     "data": {
      "image/png": "[encoded data removed]",
      "text/plain": [
       "<Figure size 600x300 with 1 Axes>"
      ]
     },
     "metadata": {},
     "output_type": "display_data"
    }
   ],
   "source": [
    "plt.figure(figsize=(6, 3))\n",
    "plt.plot(estimated_scale, label=\"Estimated σ\")\n",
    "plt.axhline(scale, color='orange', linestyle='--', label=\"True σ\")\n",
    "plt.xlabel('Epoch')\n",
    "plt.ylabel('Value')\n",
    "plt.legend()\n",
    "plt.grid(True)\n",
    "plt.title('Convergence of σ')\n",
    "plt.show()"
   ]
  },
  {
   "cell_type": "code",
   "execution_count": 19,
   "metadata": {},
   "outputs": [
    {
     "name": "stdout",
     "output_type": "stream",
     "text": [
      "Estimated scale: Parameter containing:\n",
      "tensor([0.4887], requires_grad=True)\n",
      "True scale: tensor([0.5000])\n"
     ]
    }
   ],
   "source": [
    "print(\"Estimated scale:\", model.scale)\n",
    "print(\"True scale:\", scale)"
   ]
  },
  {
   "cell_type": "markdown",
   "metadata": {},
   "source": [
    "### Kappa Inference"
   ]
  },
  {
   "cell_type": "code",
   "execution_count": 20,
   "metadata": {},
   "outputs": [],
   "source": [
    "def infer_kappa(x_t, sigma, region):\n",
    "    \"\"\"\n",
    "    Infers the parameter kappa for the Poisson Point Process intensity function\n",
    "    given the data x_t and the known scale parameter sigma.\n",
    "    \n",
    "    Args:\n",
    "    - x_t: numpy array of shape (n, d), where n is the number of data points and d is the dimension of the data.\n",
    "    - sigma: the known scale parameter (positive real number).\n",
    "    \n",
    "    Returns:\n",
    "    - kappa: the inferred scaling factor for the intensity function.\n",
    "    \"\"\"\n",
    "    (a1, b1), (a2, b2) = region\n",
    "    n = len(x_t)\n",
    "    \n",
    "    def integrand(x0, x1, sigma):\n",
    "        return np.exp(-(x0**2 + x1**2) / sigma**2)\n",
    "\n",
    "    integral_result, _ = dblquad(integrand, a1, b1, lambda x0: a2, lambda x0: b2, args=(sigma,))\n",
    "    \n",
    "    kappa = n / integral_result\n",
    "    return kappa"
   ]
  },
  {
   "cell_type": "code",
   "execution_count": 21,
   "metadata": {},
   "outputs": [
    {
     "name": "stdout",
     "output_type": "stream",
     "text": [
      "Inferred kappa: 1040.8396065935078\n"
     ]
    }
   ],
   "source": [
    "kappa = infer_kappa(x_t, model.scale.detach().numpy(), region)\n",
    "print(f\"Inferred kappa: {kappa}\")"
   ]
  },
  {
   "cell_type": "code",
   "execution_count": null,
   "metadata": {},
   "outputs": [],
   "source": []
  }
 ],
 "metadata": {
  "kernelspec": {
   "display_name": ".venv",
   "language": "python",
   "name": "python3"
  },
  "language_info": {
   "codemirror_mode": {
    "name": "ipython",
    "version": 3
   },
   "file_extension": ".py",
   "mimetype": "text/x-python",
   "name": "python",
   "nbconvert_exporter": "python",
   "pygments_lexer": "ipython3",
   "version": "3.12.8"
  }
 },
 "nbformat": 4,
 "nbformat_minor": 2
}
