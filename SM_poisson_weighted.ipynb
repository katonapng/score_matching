{
 "cells": [
  {
   "cell_type": "code",
   "execution_count": 2,
   "metadata": {},
   "outputs": [],
   "source": [
    "import time\n",
    "import warnings\n",
    "\n",
    "import matplotlib.pyplot as plt\n",
    "import numpy as np\n",
    "import torch\n",
    "import torch.nn as nn\n",
    "from sklearn.metrics import mean_squared_error, r2_score\n",
    "from torch.nn.utils.rnn import pad_sequence\n",
    "from tqdm import tqdm\n",
    "\n",
    "from dataloader import FastTensorDataLoader"
   ]
  },
  {
   "cell_type": "code",
   "execution_count": 13,
   "metadata": {},
   "outputs": [],
   "source": [
    "warnings.filterwarnings(\"ignore\", category=UserWarning)"
   ]
  },
  {
   "cell_type": "markdown",
   "metadata": {},
   "source": [
    "# Data Generation"
   ]
  },
  {
   "cell_type": "code",
   "execution_count": 4,
   "metadata": {},
   "outputs": [],
   "source": [
    "def generate_poisson_points(kappa, scale, region):\n",
    "    \"\"\"\n",
    "    Generate a Poisson Point Process in a 2D region based on intensity function.\n",
    "    \n",
    "    Parameters:\n",
    "    - kappa (torch.Tensor): The intensity parameter (scalar or vector).\n",
    "    - scale (torch.Tensor): The scale parameter (scalar or vector).\n",
    "    - region (tuple): The spatial domain as ((xmin, xmax), (ymin, ymax)).\n",
    "    \n",
    "    Returns:\n",
    "    - points (numpy.ndarray): The simulated points of the PPP.\n",
    "    \"\"\"\n",
    "    (xmin, xmax), (ymin, ymax) = region\n",
    "\n",
    "    area = (xmax - xmin) * (ymax - ymin)\n",
    "    max_intensity = kappa * area  # Maximum value of intensity\n",
    "    num_samples = np.random.poisson(lam=max_intensity)\n",
    "\n",
    "    x_candidates = np.random.uniform(xmin, xmax, size=num_samples)\n",
    "    y_candidates = np.random.uniform(ymin, ymax, size=num_samples)\n",
    "    candidates = torch.tensor(np.stack([x_candidates, y_candidates], axis=1), dtype=torch.float32)\n",
    "    \n",
    "    squared_norm = torch.sum(candidates**2, dim=-1)\n",
    "    intensity = kappa * torch.exp(-squared_norm / scale**2)\n",
    "    \n",
    "    uniform_samples = torch.rand(num_samples)  # Uniform samples for rejection\n",
    "    acceptance_mask = uniform_samples < (intensity / kappa)\n",
    "    \n",
    "    accepted_points = candidates[acceptance_mask]\n",
    "    return accepted_points.numpy()\n",
    "\n",
    "\n",
    "def generate_poisson_points_1d(kappa, scale, region):\n",
    "    \"\"\"\n",
    "    Generate a Poisson Point Process in a 1D region based on an intensity function.\n",
    "    \n",
    "    Parameters:\n",
    "    - kappa (torch.Tensor): The intensity parameter (scalar or vector).\n",
    "    - scale (torch.Tensor): The scale parameter (scalar or vector).\n",
    "    - region (tuple): The spatial domain as (xmin, xmax).\n",
    "    \n",
    "    Returns:\n",
    "    - points (numpy.ndarray): The simulated points of the PPP in 1D.\n",
    "    \"\"\"\n",
    "    xmin, xmax = region\n",
    "\n",
    "    # Length of the region\n",
    "    length = xmax - xmin\n",
    "    max_intensity = kappa * length  # Maximum value of intensity\n",
    "    num_samples = np.random.poisson(lam=max_intensity)  # Number of candidate samples\n",
    "\n",
    "    # Generate candidate points\n",
    "    x_candidates = np.random.uniform(xmin, xmax, size=num_samples)\n",
    "    candidates = torch.tensor(x_candidates, dtype=torch.float32)\n",
    "    \n",
    "    # Calculate intensity\n",
    "    squared_norm = candidates**2\n",
    "    intensity = kappa * torch.exp(-squared_norm / scale**2)\n",
    "    \n",
    "    # Perform rejection sampling\n",
    "    uniform_samples = torch.rand(num_samples)  # Uniform samples for rejection\n",
    "    acceptance_mask = uniform_samples < (intensity / kappa)\n",
    "    \n",
    "    accepted_points = candidates[acceptance_mask]\n",
    "    return accepted_points.numpy()"
   ]
  },
  {
   "cell_type": "markdown",
   "metadata": {},
   "source": [
    "## Data 1d"
   ]
  },
  {
   "cell_type": "code",
   "execution_count": 492,
   "metadata": {},
   "outputs": [],
   "source": [
    "kappa = torch.tensor(1000.0)\n",
    "scale = torch.tensor(0.6)\n",
    "\n",
    "region = (-0.5, 3)"
   ]
  },
  {
   "cell_type": "code",
   "execution_count": 493,
   "metadata": {},
   "outputs": [],
   "source": [
    "num_samples = 100\n",
    "samples = []\n",
    "for _ in range(num_samples):\n",
    "    # x_t = generate_poisson_points(kappa, scale, region)\n",
    "    x_t = generate_poisson_points_1d(kappa, scale, region)\n",
    "    samples.append(torch.tensor(x_t).unsqueeze(-1))"
   ]
  },
  {
   "cell_type": "code",
   "execution_count": 494,
   "metadata": {},
   "outputs": [
    {
     "data": {
      "text/plain": [
       "939.17"
      ]
     },
     "execution_count": 494,
     "metadata": {},
     "output_type": "execute_result"
    }
   ],
   "source": [
    "mean_length = sum(len(sample) for sample in samples) / num_samples\n",
    "mean_length"
   ]
  },
  {
   "cell_type": "markdown",
   "metadata": {},
   "source": [
    "## Data 2d"
   ]
  },
  {
   "cell_type": "code",
   "execution_count": 346,
   "metadata": {},
   "outputs": [],
   "source": [
    "kappa = torch.tensor(1000.0)\n",
    "scale = torch.tensor(0.5)\n",
    "\n",
    "region = ((0, 1), (0, 1))"
   ]
  },
  {
   "cell_type": "code",
   "execution_count": 327,
   "metadata": {},
   "outputs": [],
   "source": [
    "num_samples = 1000\n",
    "samples = []\n",
    "for _ in range(num_samples):\n",
    "    x_t = generate_poisson_points(kappa, scale, region)\n",
    "    samples.append(torch.tensor(x_t))"
   ]
  },
  {
   "cell_type": "markdown",
   "metadata": {},
   "source": [
    "## Data Loader"
   ]
  },
  {
   "cell_type": "code",
   "execution_count": 495,
   "metadata": {},
   "outputs": [
    {
     "name": "stderr",
     "output_type": "stream",
     "text": [
      "C:\\Users\\79217\\AppData\\Local\\Temp\\ipykernel_7008\\214776262.py:3: UserWarning: To copy construct from a tensor, it is recommended to use sourceTensor.clone().detach() or sourceTensor.clone().detach().requires_grad_(True), rather than torch.tensor(sourceTensor).\n",
      "  samples_torch = [torch.tensor(s, dtype=torch.float32) for s in samples]\n"
     ]
    }
   ],
   "source": [
    "train_ratio = 0.8\n",
    "batch_size = 32\n",
    "samples_torch = [torch.tensor(s, dtype=torch.float32) for s in samples]\n",
    "\n",
    "X = pad_sequence(samples_torch, batch_first=True, padding_value=0)\n",
    "\n",
    "lengths = torch.tensor([len(s) for s in samples_torch], dtype=torch.int64)\n",
    "lengths_expanded = lengths.unsqueeze(-1).expand(-1, X.shape[1])\n",
    "X = torch.cat((X, lengths_expanded.unsqueeze(-1)), dim=-1)\n",
    "\n",
    "m = len(X)\n",
    "train_size = int(train_ratio * m)\n",
    "\n",
    "X_train = X[:train_size]\n",
    "X_test = X[train_size:]\n",
    "\n",
    "loader_train = FastTensorDataLoader(X_train, batch_size=batch_size, shuffle=True)\n",
    "loader_test = FastTensorDataLoader(X_test, batch_size=batch_size, shuffle=False)"
   ]
  },
  {
   "cell_type": "code",
   "execution_count": 496,
   "metadata": {},
   "outputs": [],
   "source": [
    "length = int(X_train[0][0][-1].item())\n",
    "x_plot = X_train[0][:length][:, 0]"
   ]
  },
  {
   "cell_type": "code",
   "execution_count": 497,
   "metadata": {},
   "outputs": [
    {
     "data": {
      "image/png": "[encoded data removed]",
      "text/plain": [
       "<Figure size 640x480 with 1 Axes>"
      ]
     },
     "metadata": {},
     "output_type": "display_data"
    }
   ],
   "source": [
    "plt.scatter(x_plot, np.zeros_like(x_plot), label='Data Points')\n",
    "plt.axhline(0, color='red', linestyle='--', label='y = 0')\n",
    "plt.title('Scatter Plot of X_train[0] (without last value) with y = 0')\n",
    "plt.xlabel('Index')\n",
    "plt.ylabel('Value')\n",
    "plt.legend()\n",
    "plt.show()"
   ]
  },
  {
   "cell_type": "code",
   "execution_count": 331,
   "metadata": {},
   "outputs": [],
   "source": [
    "length = int(X_train[0][0][-1].item())\n",
    "x_plot = X_train[0][:length][:,:-1]"
   ]
  },
  {
   "cell_type": "code",
   "execution_count": 332,
   "metadata": {},
   "outputs": [
    {
     "ename": "IndexError",
     "evalue": "index 1 is out of bounds for dimension 1 with size 1",
     "output_type": "error",
     "traceback": [
      "\u001b[1;31m---------------------------------------------------------------------------\u001b[0m",
      "\u001b[1;31mIndexError\u001b[0m                                Traceback (most recent call last)",
      "Cell \u001b[1;32mIn[332], line 2\u001b[0m\n\u001b[0;32m      1\u001b[0m x \u001b[38;5;241m=\u001b[39m x_plot[:, \u001b[38;5;241m0\u001b[39m]\u001b[38;5;241m.\u001b[39mnumpy()\n\u001b[1;32m----> 2\u001b[0m y \u001b[38;5;241m=\u001b[39m \u001b[43mx_plot\u001b[49m\u001b[43m[\u001b[49m\u001b[43m:\u001b[49m\u001b[43m,\u001b[49m\u001b[43m \u001b[49m\u001b[38;5;241;43m1\u001b[39;49m\u001b[43m]\u001b[49m\u001b[38;5;241m.\u001b[39mnumpy()\n\u001b[0;32m      3\u001b[0m x_min, x_max \u001b[38;5;241m=\u001b[39m x\u001b[38;5;241m.\u001b[39mmin(), x\u001b[38;5;241m.\u001b[39mmax()\n\u001b[0;32m      4\u001b[0m y_min, y_max \u001b[38;5;241m=\u001b[39m y\u001b[38;5;241m.\u001b[39mmin(), y\u001b[38;5;241m.\u001b[39mmax()\n",
      "\u001b[1;31mIndexError\u001b[0m: index 1 is out of bounds for dimension 1 with size 1"
     ]
    }
   ],
   "source": [
    "x = x_plot[:, 0].numpy()\n",
    "y = x_plot[:, 1].numpy()\n",
    "x_min, x_max = x.min(), x.max()\n",
    "y_min, y_max = y.min(), y.max()\n",
    "\n",
    "x_lin = np.linspace(x_min, x_max, 100)\n",
    "y_lin = np.linspace(y_min, y_max, 100)\n",
    "xx, yy = np.meshgrid(x_lin, y_lin)\n",
    "\n",
    "grid_points = np.stack([xx.ravel(), yy.ravel()], axis=1)\n",
    "    \n",
    "intensity_real = kappa.item() * np.exp(-(xx**2 + yy**2) / scale**2)\n",
    "\n",
    "fig, ax = plt.subplots(figsize=(8, 8))\n",
    "\n",
    "if isinstance(intensity_real, torch.Tensor):\n",
    "    intensity_real = intensity_real.numpy()\n",
    "c = ax.contourf(\n",
    "    xx, yy, intensity_real, levels=50,\n",
    "    cmap='viridis', alpha=0.7,\n",
    ")\n",
    "ax.scatter(x, y, c='red', s=5, alpha=0.6, label='Poisson Points')\n",
    "ax.set_title('True Intensity', fontsize=16)\n",
    "ax.set_xlabel(r'$x$', fontsize=14)\n",
    "ax.set_ylabel(r'$y$', fontsize=14)\n",
    "ax.legend()\n",
    "ax.set_aspect('equal')\n",
    "ax.grid(True, linestyle='--', alpha=0.5)\n",
    "fig.colorbar(c, ax=ax, label=\"Normalized Intensity\")\n",
    "\n",
    "plt.tight_layout()\n",
    "plt.show()"
   ]
  },
  {
   "cell_type": "markdown",
   "metadata": {},
   "source": [
    "# Neural Network Poisson Model\n"
   ]
  },
  {
   "cell_type": "code",
   "execution_count": 6,
   "metadata": {},
   "outputs": [],
   "source": [
    "def optimize_nn(\n",
    "        loader_train, nn_model, num_epochs=1000, learning_rate=1e-3, grad_clip_value=1.0, weighting=True):\n",
    "    \"\"\"\n",
    "    Optimizes the model parameters.\n",
    "\n",
    "    Args:\n",
    "        loader_train (DataLoader): DataLoader for training data.\n",
    "        nn_model (callable): Function that creates the neural network model.\n",
    "        num_epochs (int): Number of training epochs.\n",
    "        learning_rate (float): Learning rate.\n",
    "        patience (int): Number of epochs to wait before early stopping.\n",
    "\n",
    "    Returns:\n",
    "        tuple: (trained model, train_losses)\n",
    "    \"\"\"\n",
    "    def initialize_model_and_optimizer():\n",
    "        model = nn_model()\n",
    "        sample_input = next(iter(loader_train))[0][:,:,:-1].float() # without length dimension\n",
    "        model(sample_input)  # Forward pass to initialize the layers\n",
    "        optimizer = torch.optim.Rprop(model.parameters(), lr=learning_rate)\n",
    "        return model, optimizer\n",
    "\n",
    "    def run_epoch(loader, model, weighting, optimizer=None, total_samples=None):\n",
    "        mode = model.train\n",
    "        mode()\n",
    "\n",
    "        loss_sum = 0.0\n",
    "        for X_batch in loader:\n",
    "            x_data = X_batch[0]\n",
    "            \n",
    "            optimizer.zero_grad()\n",
    "            loss = model.loss(x_data, weighting=weighting)\n",
    "            loss.backward()\n",
    "            torch.nn.utils.clip_grad_norm_(model.parameters(), max_norm=grad_clip_value)\n",
    "            optimizer.step()\n",
    "\n",
    "            loss_sum += loss.item() \n",
    "\n",
    "        return loss_sum / total_samples if total_samples > 0 else 0.0\n",
    "\n",
    "\n",
    "    model, optimizer = initialize_model_and_optimizer()\n",
    "    train_losses = []\n",
    "    train_samples = len(loader_train)\n",
    "\n",
    "    pbar = tqdm(range(num_epochs), desc=\"Training\", unit=\"epoch\")\n",
    "    for _ in pbar:\n",
    "        start_time = time.time()\n",
    "\n",
    "        # Training phase\n",
    "        avg_train_loss = run_epoch(loader_train, model, weighting, optimizer, total_samples=train_samples)\n",
    "        train_losses.append(avg_train_loss)\n",
    "\n",
    "        elapsed_time = time.time() - start_time\n",
    "        pbar.set_postfix({\n",
    "            \"Train Loss\": f\"{avg_train_loss:.4f}\",\n",
    "            \"Time/Epoch\": f\"{elapsed_time:.2f}s\"\n",
    "        })\n",
    "\n",
    "    return model, train_losses"
   ]
  },
  {
   "cell_type": "code",
   "execution_count": 7,
   "metadata": {},
   "outputs": [],
   "source": [
    "class Poisson_NN(nn.Module):\n",
    "    def __init__(self, input_dim=None, hidden_dim=64, output_dim=1):\n",
    "        super().__init__()\n",
    "        torch.manual_seed(123)\n",
    "        self.hidden_dim = hidden_dim\n",
    "        self.output_dim = output_dim\n",
    "        self.input_dim = input_dim  # Initially None, determined dynamically\n",
    "\n",
    "        # Placeholders for layers; they will be initialized once input_dim is set\n",
    "        self.fc1 = None\n",
    "        self.fc2 = None\n",
    "\n",
    "    def initialize_layers(self, input_dim):\n",
    "        \"\"\"Initialize layers based on input_dim.\"\"\"\n",
    "        self.input_dim = input_dim\n",
    "        self.fc1 = nn.Linear(input_dim, self.hidden_dim)\n",
    "        self.fc2 = nn.Linear(self.hidden_dim, self.output_dim)\n",
    "        nn.init.xavier_uniform_(self.fc1.weight)\n",
    "        nn.init.xavier_uniform_(self.fc2.weight)\n",
    "    \n",
    "    def forward(self, x):\n",
    "        if self.fc1 is None or self.fc2 is None:\n",
    "            self.initialize_layers(x.shape[-1])\n",
    "\n",
    "        x = torch.tanh(self.fc1(x))\n",
    "        intensity = torch.exp(self.fc2(x))\n",
    "        return intensity\n",
    "    \n",
    "    def compute_psi(self, x):\n",
    "        x.requires_grad_(True)\t\n",
    "        nn_output = torch.log(torch.clamp(self.forward(x), min=1e-5))\n",
    "        psi = torch.autograd.grad(nn_output, x, grad_outputs=torch.ones_like(nn_output), create_graph=True)[0]\n",
    "        return psi\n",
    "\n",
    "    def gaussian_window(self, x):\n",
    "        \"\"\"Gaussian window function computed per dimension.\"\"\"\n",
    "        mean = x.mean(dim=1, keepdim=True)  # Compute mean along batch\n",
    "        sigma = x.std(dim=1, keepdim=True)   # Compute std along batch\n",
    "        return torch.exp(-0.5 * ((x - mean) ** 2) / (sigma ** 2)).prod(dim=-1, keepdim=True)\n",
    "\n",
    "    def gaussian_window_derivative(self, x):\n",
    "        \"\"\"Derivative of the Gaussian window function computed per dimension.\"\"\"\n",
    "        mean = x.mean(dim=1, keepdim=True)\n",
    "        sigma = x.std(dim=1, keepdim=True)\n",
    "        return -(x - mean) / (sigma ** 2) * torch.exp(-0.5 * ((x - mean) ** 2) / sigma ** 2).prod(dim=-1, keepdim=True)\n",
    "\n",
    "    def loss(self, points, weighting=True):\n",
    "        lengths = points[:, 0, -1].to(dtype=torch.int64)\n",
    "        max_length = lengths.max()\n",
    "        x_t = points[:, :max_length, :-1]  # Pad to max length in batch\n",
    "        \n",
    "        # Create mask to remove padding\n",
    "        mask = torch.arange(max_length, device=x_t.device).unsqueeze(0) < lengths.unsqueeze(1)\n",
    "        psi_x = self.compute_psi(x_t) \n",
    "\n",
    "        if weighting:\n",
    "            h = self.gaussian_window(x_t)\n",
    "            grad_h = self.gaussian_window_derivative(x_t)\n",
    "            weight = (psi_x * grad_h).sum(dim=-1)\n",
    "        else:\n",
    "            h = torch.tensor(1)\n",
    "            weight = 0\n",
    "            \n",
    "        norm_squared = (psi_x ** 2 * h).sum(dim=-1)  # Sum across all dimensions\n",
    "        \n",
    "        divergence = 0\n",
    "        for i in range(x_t.shape[-1]):  # Iterate over the features of x\n",
    "            gradient = torch.autograd.grad(psi_x[..., i].sum(), x_t, retain_graph=True, create_graph=True)[0]\n",
    "            divergence += gradient[..., i]\n",
    "\n",
    "        divergence = divergence * h.squeeze(-1) * mask \n",
    "        norm_squared = norm_squared * mask\n",
    "        weight = weight * mask\n",
    "\n",
    "        total_loss = 0.5 * norm_squared + divergence + weight\n",
    "        total_loss = total_loss.sum(dim=-1)/lengths  # Sum over the time dimension\n",
    "\n",
    "        batch_size = points.size(0)\n",
    "        total_loss = total_loss.mean() / batch_size\n",
    "        \n",
    "        return total_loss"
   ]
  },
  {
   "cell_type": "code",
   "execution_count": 484,
   "metadata": {},
   "outputs": [],
   "source": [
    "class Poisson_NN_poly(nn.Module):\n",
    "    def __init__(self, input_dim=None, hidden_dim=32, output_dim=1, m=None, n=None):\n",
    "        super().__init__()\n",
    "        torch.manual_seed(123)\n",
    "        self.hidden_dim = hidden_dim\n",
    "        self.output_dim = output_dim\n",
    "        self.input_dim = input_dim  # Initially None, determined dynamically\n",
    "        self.m = m  # Exponent parameter for polynomial window\n",
    "        self.n = n  # Exponent parameter for polynomial window\n",
    "\n",
    "        # Placeholders for layers; they will be initialized once input_dim is set\n",
    "        self.fc1 = None\n",
    "        self.fc2 = None\n",
    "\n",
    "    def initialize_layers(self, input_dim):\n",
    "        \"\"\"Initialize layers based on input_dim.\"\"\"\n",
    "        self.input_dim = input_dim\n",
    "        self.fc1 = nn.Linear(input_dim, self.hidden_dim)\n",
    "        self.fc2 = nn.Linear(self.hidden_dim, self.output_dim)\n",
    "        nn.init.xavier_uniform_(self.fc1.weight)\n",
    "        nn.init.xavier_uniform_(self.fc2.weight)\n",
    "\n",
    "    def initialize_parameters(self, x):\n",
    "        \"\"\"Initialize m and n based on incoming data.\"\"\"\n",
    "        self.mean = x.mean()\n",
    "        self.std = x.std()\n",
    "\n",
    "        # Set m and n dynamically based on data characteristics\n",
    "        self.m = 1.0 + (self.mean / (self.std + 1e-6)).abs()  # Avoid division by zero\n",
    "        self.n = 1.0 + (self.std / (self.mean + 1e-6)).abs()\n",
    "\n",
    "        print(f\"Initialized parameters: m = {self.m.item():.4f}, n = {self.n.item():.4f}\")\n",
    "\n",
    "    def forward(self, x):\n",
    "        if self.fc1 is None or self.fc2 is None:\n",
    "            self.initialize_layers(x.shape[-1])\n",
    "\n",
    "        if self.m is None or self.n is None:\n",
    "            self.initialize_parameters(x)\n",
    "\n",
    "        x = torch.tanh(self.fc1(x))\n",
    "        intensity = torch.nn.functional.softplus(self.fc2(x))\n",
    "        return intensity\n",
    "    \n",
    "    def compute_psi(self, x):\n",
    "        x = x.float()\n",
    "        x.requires_grad_()\n",
    "        nn_output = torch.log(torch.clamp(self.forward(x), min=1e-8))\n",
    "        psi = torch.autograd.grad(nn_output, x, grad_outputs=torch.ones_like(nn_output), create_graph=True)[0]\n",
    "        return psi\n",
    "\n",
    "    def polynomial_window(self, T):\n",
    "        \"\"\"Polynomial window function B(x) = x^m (1-x)^n.\"\"\"\n",
    "        return (T ** self.m) * ((1 - T) ** self.n)\n",
    "\n",
    "    def polynomial_window_derivative(self, T):\n",
    "        \"\"\"Derivative of the polynomial window function.\"\"\"\n",
    "        term1 = self.m * (T ** (self.m - 1)) * ((1 - T) ** self.n)\n",
    "        term2 = -self.n * (T ** self.m) * ((1 - T) ** (self.n - 1))\n",
    "        return term1 + term2\n",
    "\n",
    "    def loss(self, points, weighting=True):\n",
    "        lengths = points[:, 0, -1].to(dtype=torch.int64)\n",
    "        max_length = lengths.max()\n",
    "        x_t = points[:, :max_length, :-1]  # Pad to max length in batch\n",
    "        \n",
    "        # Create mask to remove padding\n",
    "        mask = torch.arange(max_length, device=x_t.device).unsqueeze(0) < lengths.unsqueeze(1)\n",
    "        psi_x = self.compute_psi(x_t) \n",
    "\n",
    "        if weighting:\n",
    "            h = self.polynomial_window(x_t)\n",
    "            grad_h = self.polynomial_window_derivative(x_t)\n",
    "            weight = (psi_x * grad_h).sum(dim=-1)\n",
    "        else:\n",
    "            h = torch.tensor(1)\n",
    "            weight = 0\n",
    "            \n",
    "        norm_squared = (psi_x ** 2 * h).sum(dim=-1)  # Sum across all dimensions\n",
    "        \n",
    "        divergence = 0\n",
    "        for i in range(x_t.shape[-1]):  # Iterate over the features of x\n",
    "            gradient = torch.autograd.grad(psi_x[..., i].sum(), x_t, retain_graph=True, create_graph=True)[0]\n",
    "            divergence += gradient[..., i]\n",
    "\n",
    "        divergence = divergence * h.squeeze(-1) * mask \n",
    "        norm_squared = norm_squared * mask\n",
    "        weight = weight * mask\n",
    "\n",
    "        total_loss = 0.5 * norm_squared + divergence + weight\n",
    "        total_loss = total_loss.sum(dim=-1)/lengths  # Sum over the time dimension\n",
    "\n",
    "        batch_size = points.size(0)\n",
    "        total_loss = total_loss.mean() / batch_size\n",
    "        \n",
    "        return total_loss"
   ]
  },
  {
   "cell_type": "code",
   "execution_count": 500,
   "metadata": {},
   "outputs": [],
   "source": [
    "epochs = 100\n",
    "learning_rate = 1e-5"
   ]
  },
  {
   "cell_type": "code",
   "execution_count": 507,
   "metadata": {},
   "outputs": [
    {
     "name": "stderr",
     "output_type": "stream",
     "text": [
      "Training: 100%|██████████| 100/100 [00:35<00:00,  2.82epoch/s, Train Loss=-0.8643, Time/Epoch=0.32s]\n"
     ]
    }
   ],
   "source": [
    "model, train_losses = optimize_nn(\n",
    "        loader_train, Poisson_NN, num_epochs=epochs, learning_rate=learning_rate, weighting=False,\n",
    "    )"
   ]
  },
  {
   "cell_type": "code",
   "execution_count": 508,
   "metadata": {},
   "outputs": [
    {
     "data": {
      "image/png": "[encoded data removed]",
      "text/plain": [
       "<Figure size 640x480 with 1 Axes>"
      ]
     },
     "metadata": {},
     "output_type": "display_data"
    }
   ],
   "source": [
    "plt.plot(train_losses, label=\"Train loss\")\n",
    "plt.xlabel('Epoch')\n",
    "plt.ylabel('Loss')\n",
    "plt.title('Score Matching Losses over Epochs')\n",
    "plt.legend()\n",
    "plt.grid(True)\n",
    "plt.show()"
   ]
  },
  {
   "cell_type": "code",
   "execution_count": 509,
   "metadata": {},
   "outputs": [
    {
     "name": "stderr",
     "output_type": "stream",
     "text": [
      "C:\\Users\\79217\\AppData\\Local\\Temp\\ipykernel_7008\\862432006.py:11: UserWarning: To copy construct from a tensor, it is recommended to use sourceTensor.clone().detach() or sourceTensor.clone().detach().requires_grad_(True), rather than torch.tensor(sourceTensor).\n",
      "  intensity_pred = model(torch.tensor(x_lin[:, None], dtype=torch.float32)).squeeze().detach().numpy()\n"
     ]
    },
    {
     "data": {
      "image/png": "[encoded data removed]",
      "text/plain": [
       "<Figure size 1000x600 with 1 Axes>"
      ]
     },
     "metadata": {},
     "output_type": "display_data"
    }
   ],
   "source": [
    "# Extract the 1D data\n",
    "x = X_test[1][:, 0]\n",
    "\n",
    "# Compute range for the 1D data\n",
    "x_min, x_max = x.min(), x.max()\n",
    "\n",
    "# Generate a 1D grid for intensity\n",
    "x_lin = np.linspace(x_min, x_max, 100)  # Adjust resolution if needed\n",
    "\n",
    "# Compute predicted intensity values for the grid\n",
    "intensity_pred = model(torch.tensor(x_lin[:, None], dtype=torch.float32)).squeeze().detach().numpy()\n",
    "\n",
    "# Compute true intensity values for the grid (assuming Gaussian distribution)\n",
    "intensity_real = kappa * torch.exp(-x_lin[:, None]**2 / scale**2)\n",
    "\n",
    "# Plot 1: Predicted Intensity Function\n",
    "plt.figure(figsize=(10, 6))\n",
    "plt.plot(x_lin, intensity_pred / np.max(intensity_pred), label='Predicted Intensity', color='blue')\n",
    "plt.xlabel(r'$x$', fontsize=14)\n",
    "plt.ylabel(r'Intensity $\\rho(x)$', fontsize=14)\n",
    "plt.grid(True, linestyle='--', alpha=0.5)\n",
    "plt.legend()\n",
    "\n",
    "# Plot 2: True Intensity Function\n",
    "plt.plot(x_lin, intensity_real / intensity_real.max(), label='True Intensity', color='green')\n",
    "plt.scatter(x, np.zeros_like(x), c='red', s=10, alpha=0.6, label='Gaussian Points')\n",
    "plt.xlabel(r'$x$', fontsize=14)\n",
    "plt.ylabel(r'Intensity $\\rho(x)$', fontsize=14)\n",
    "plt.title('Intensity', fontsize=16)\n",
    "plt.grid(True, linestyle='--', alpha=0.5)\n",
    "plt.legend()\n",
    "plt.show()\n"
   ]
  },
  {
   "cell_type": "code",
   "execution_count": 510,
   "metadata": {},
   "outputs": [
    {
     "ename": "RuntimeError",
     "evalue": "mat1 and mat2 shapes cannot be multiplied (10000x2 and 1x64)",
     "output_type": "error",
     "traceback": [
      "\u001b[1;31m---------------------------------------------------------------------------\u001b[0m",
      "\u001b[1;31mRuntimeError\u001b[0m                              Traceback (most recent call last)",
      "Cell \u001b[1;32mIn[510], line 11\u001b[0m\n\u001b[0;32m      8\u001b[0m xx, yy \u001b[38;5;241m=\u001b[39m np\u001b[38;5;241m.\u001b[39mmeshgrid(x_lin, y_lin)\n\u001b[0;32m     10\u001b[0m grid_points \u001b[38;5;241m=\u001b[39m np\u001b[38;5;241m.\u001b[39mstack([xx\u001b[38;5;241m.\u001b[39mravel(), yy\u001b[38;5;241m.\u001b[39mravel()], axis\u001b[38;5;241m=\u001b[39m\u001b[38;5;241m1\u001b[39m)\n\u001b[1;32m---> 11\u001b[0m intensity_pred \u001b[38;5;241m=\u001b[39m \u001b[43mmodel\u001b[49m\u001b[43m(\u001b[49m\u001b[43mtorch\u001b[49m\u001b[38;5;241;43m.\u001b[39;49m\u001b[43mtensor\u001b[49m\u001b[43m(\u001b[49m\u001b[43mgrid_points\u001b[49m\u001b[43m,\u001b[49m\u001b[43m \u001b[49m\u001b[43mdtype\u001b[49m\u001b[38;5;241;43m=\u001b[39;49m\u001b[43mtorch\u001b[49m\u001b[38;5;241;43m.\u001b[39;49m\u001b[43mfloat32\u001b[49m\u001b[43m)\u001b[49m\u001b[43m)\u001b[49m\u001b[38;5;241m.\u001b[39mdetach()\u001b[38;5;241m.\u001b[39mnumpy()\n\u001b[0;32m     12\u001b[0m intensity_pred_2d \u001b[38;5;241m=\u001b[39m intensity_pred\u001b[38;5;241m.\u001b[39mreshape(xx\u001b[38;5;241m.\u001b[39mshape)\n\u001b[0;32m     14\u001b[0m intensity_real \u001b[38;5;241m=\u001b[39m kappa\u001b[38;5;241m.\u001b[39mitem() \u001b[38;5;241m*\u001b[39m np\u001b[38;5;241m.\u001b[39mexp(\u001b[38;5;241m-\u001b[39m(xx\u001b[38;5;241m*\u001b[39m\u001b[38;5;241m*\u001b[39m\u001b[38;5;241m2\u001b[39m \u001b[38;5;241m+\u001b[39m yy\u001b[38;5;241m*\u001b[39m\u001b[38;5;241m*\u001b[39m\u001b[38;5;241m2\u001b[39m) \u001b[38;5;241m/\u001b[39m scale\u001b[38;5;241m*\u001b[39m\u001b[38;5;241m*\u001b[39m\u001b[38;5;241m2\u001b[39m)\n",
      "File \u001b[1;32mc:\\Users\\79217\\Documents\\TUD\\3 semester\\Research Project\\poisson_inference\\.venv\\Lib\\site-packages\\torch\\nn\\modules\\module.py:1736\u001b[0m, in \u001b[0;36mModule._wrapped_call_impl\u001b[1;34m(self, *args, **kwargs)\u001b[0m\n\u001b[0;32m   1734\u001b[0m     \u001b[38;5;28;01mreturn\u001b[39;00m \u001b[38;5;28mself\u001b[39m\u001b[38;5;241m.\u001b[39m_compiled_call_impl(\u001b[38;5;241m*\u001b[39margs, \u001b[38;5;241m*\u001b[39m\u001b[38;5;241m*\u001b[39mkwargs)  \u001b[38;5;66;03m# type: ignore[misc]\u001b[39;00m\n\u001b[0;32m   1735\u001b[0m \u001b[38;5;28;01melse\u001b[39;00m:\n\u001b[1;32m-> 1736\u001b[0m     \u001b[38;5;28;01mreturn\u001b[39;00m \u001b[38;5;28;43mself\u001b[39;49m\u001b[38;5;241;43m.\u001b[39;49m\u001b[43m_call_impl\u001b[49m\u001b[43m(\u001b[49m\u001b[38;5;241;43m*\u001b[39;49m\u001b[43margs\u001b[49m\u001b[43m,\u001b[49m\u001b[43m \u001b[49m\u001b[38;5;241;43m*\u001b[39;49m\u001b[38;5;241;43m*\u001b[39;49m\u001b[43mkwargs\u001b[49m\u001b[43m)\u001b[49m\n",
      "File \u001b[1;32mc:\\Users\\79217\\Documents\\TUD\\3 semester\\Research Project\\poisson_inference\\.venv\\Lib\\site-packages\\torch\\nn\\modules\\module.py:1747\u001b[0m, in \u001b[0;36mModule._call_impl\u001b[1;34m(self, *args, **kwargs)\u001b[0m\n\u001b[0;32m   1742\u001b[0m \u001b[38;5;66;03m# If we don't have any hooks, we want to skip the rest of the logic in\u001b[39;00m\n\u001b[0;32m   1743\u001b[0m \u001b[38;5;66;03m# this function, and just call forward.\u001b[39;00m\n\u001b[0;32m   1744\u001b[0m \u001b[38;5;28;01mif\u001b[39;00m \u001b[38;5;129;01mnot\u001b[39;00m (\u001b[38;5;28mself\u001b[39m\u001b[38;5;241m.\u001b[39m_backward_hooks \u001b[38;5;129;01mor\u001b[39;00m \u001b[38;5;28mself\u001b[39m\u001b[38;5;241m.\u001b[39m_backward_pre_hooks \u001b[38;5;129;01mor\u001b[39;00m \u001b[38;5;28mself\u001b[39m\u001b[38;5;241m.\u001b[39m_forward_hooks \u001b[38;5;129;01mor\u001b[39;00m \u001b[38;5;28mself\u001b[39m\u001b[38;5;241m.\u001b[39m_forward_pre_hooks\n\u001b[0;32m   1745\u001b[0m         \u001b[38;5;129;01mor\u001b[39;00m _global_backward_pre_hooks \u001b[38;5;129;01mor\u001b[39;00m _global_backward_hooks\n\u001b[0;32m   1746\u001b[0m         \u001b[38;5;129;01mor\u001b[39;00m _global_forward_hooks \u001b[38;5;129;01mor\u001b[39;00m _global_forward_pre_hooks):\n\u001b[1;32m-> 1747\u001b[0m     \u001b[38;5;28;01mreturn\u001b[39;00m \u001b[43mforward_call\u001b[49m\u001b[43m(\u001b[49m\u001b[38;5;241;43m*\u001b[39;49m\u001b[43margs\u001b[49m\u001b[43m,\u001b[49m\u001b[43m \u001b[49m\u001b[38;5;241;43m*\u001b[39;49m\u001b[38;5;241;43m*\u001b[39;49m\u001b[43mkwargs\u001b[49m\u001b[43m)\u001b[49m\n\u001b[0;32m   1749\u001b[0m result \u001b[38;5;241m=\u001b[39m \u001b[38;5;28;01mNone\u001b[39;00m\n\u001b[0;32m   1750\u001b[0m called_always_called_hooks \u001b[38;5;241m=\u001b[39m \u001b[38;5;28mset\u001b[39m()\n",
      "Cell \u001b[1;32mIn[499], line 25\u001b[0m, in \u001b[0;36mPoisson_NN.forward\u001b[1;34m(self, x)\u001b[0m\n\u001b[0;32m     22\u001b[0m \u001b[38;5;28;01mif\u001b[39;00m \u001b[38;5;28mself\u001b[39m\u001b[38;5;241m.\u001b[39mfc1 \u001b[38;5;129;01mis\u001b[39;00m \u001b[38;5;28;01mNone\u001b[39;00m \u001b[38;5;129;01mor\u001b[39;00m \u001b[38;5;28mself\u001b[39m\u001b[38;5;241m.\u001b[39mfc2 \u001b[38;5;129;01mis\u001b[39;00m \u001b[38;5;28;01mNone\u001b[39;00m:\n\u001b[0;32m     23\u001b[0m     \u001b[38;5;28mself\u001b[39m\u001b[38;5;241m.\u001b[39minitialize_layers(x\u001b[38;5;241m.\u001b[39mshape[\u001b[38;5;241m-\u001b[39m\u001b[38;5;241m1\u001b[39m])\n\u001b[1;32m---> 25\u001b[0m x \u001b[38;5;241m=\u001b[39m torch\u001b[38;5;241m.\u001b[39mtanh(\u001b[38;5;28;43mself\u001b[39;49m\u001b[38;5;241;43m.\u001b[39;49m\u001b[43mfc1\u001b[49m\u001b[43m(\u001b[49m\u001b[43mx\u001b[49m\u001b[43m)\u001b[49m)\n\u001b[0;32m     26\u001b[0m intensity \u001b[38;5;241m=\u001b[39m torch\u001b[38;5;241m.\u001b[39mexp(\u001b[38;5;28mself\u001b[39m\u001b[38;5;241m.\u001b[39mfc2(x))\n\u001b[0;32m     27\u001b[0m \u001b[38;5;28;01mreturn\u001b[39;00m intensity\n",
      "File \u001b[1;32mc:\\Users\\79217\\Documents\\TUD\\3 semester\\Research Project\\poisson_inference\\.venv\\Lib\\site-packages\\torch\\nn\\modules\\module.py:1736\u001b[0m, in \u001b[0;36mModule._wrapped_call_impl\u001b[1;34m(self, *args, **kwargs)\u001b[0m\n\u001b[0;32m   1734\u001b[0m     \u001b[38;5;28;01mreturn\u001b[39;00m \u001b[38;5;28mself\u001b[39m\u001b[38;5;241m.\u001b[39m_compiled_call_impl(\u001b[38;5;241m*\u001b[39margs, \u001b[38;5;241m*\u001b[39m\u001b[38;5;241m*\u001b[39mkwargs)  \u001b[38;5;66;03m# type: ignore[misc]\u001b[39;00m\n\u001b[0;32m   1735\u001b[0m \u001b[38;5;28;01melse\u001b[39;00m:\n\u001b[1;32m-> 1736\u001b[0m     \u001b[38;5;28;01mreturn\u001b[39;00m \u001b[38;5;28;43mself\u001b[39;49m\u001b[38;5;241;43m.\u001b[39;49m\u001b[43m_call_impl\u001b[49m\u001b[43m(\u001b[49m\u001b[38;5;241;43m*\u001b[39;49m\u001b[43margs\u001b[49m\u001b[43m,\u001b[49m\u001b[43m \u001b[49m\u001b[38;5;241;43m*\u001b[39;49m\u001b[38;5;241;43m*\u001b[39;49m\u001b[43mkwargs\u001b[49m\u001b[43m)\u001b[49m\n",
      "File \u001b[1;32mc:\\Users\\79217\\Documents\\TUD\\3 semester\\Research Project\\poisson_inference\\.venv\\Lib\\site-packages\\torch\\nn\\modules\\module.py:1747\u001b[0m, in \u001b[0;36mModule._call_impl\u001b[1;34m(self, *args, **kwargs)\u001b[0m\n\u001b[0;32m   1742\u001b[0m \u001b[38;5;66;03m# If we don't have any hooks, we want to skip the rest of the logic in\u001b[39;00m\n\u001b[0;32m   1743\u001b[0m \u001b[38;5;66;03m# this function, and just call forward.\u001b[39;00m\n\u001b[0;32m   1744\u001b[0m \u001b[38;5;28;01mif\u001b[39;00m \u001b[38;5;129;01mnot\u001b[39;00m (\u001b[38;5;28mself\u001b[39m\u001b[38;5;241m.\u001b[39m_backward_hooks \u001b[38;5;129;01mor\u001b[39;00m \u001b[38;5;28mself\u001b[39m\u001b[38;5;241m.\u001b[39m_backward_pre_hooks \u001b[38;5;129;01mor\u001b[39;00m \u001b[38;5;28mself\u001b[39m\u001b[38;5;241m.\u001b[39m_forward_hooks \u001b[38;5;129;01mor\u001b[39;00m \u001b[38;5;28mself\u001b[39m\u001b[38;5;241m.\u001b[39m_forward_pre_hooks\n\u001b[0;32m   1745\u001b[0m         \u001b[38;5;129;01mor\u001b[39;00m _global_backward_pre_hooks \u001b[38;5;129;01mor\u001b[39;00m _global_backward_hooks\n\u001b[0;32m   1746\u001b[0m         \u001b[38;5;129;01mor\u001b[39;00m _global_forward_hooks \u001b[38;5;129;01mor\u001b[39;00m _global_forward_pre_hooks):\n\u001b[1;32m-> 1747\u001b[0m     \u001b[38;5;28;01mreturn\u001b[39;00m \u001b[43mforward_call\u001b[49m\u001b[43m(\u001b[49m\u001b[38;5;241;43m*\u001b[39;49m\u001b[43margs\u001b[49m\u001b[43m,\u001b[49m\u001b[43m \u001b[49m\u001b[38;5;241;43m*\u001b[39;49m\u001b[38;5;241;43m*\u001b[39;49m\u001b[43mkwargs\u001b[49m\u001b[43m)\u001b[49m\n\u001b[0;32m   1749\u001b[0m result \u001b[38;5;241m=\u001b[39m \u001b[38;5;28;01mNone\u001b[39;00m\n\u001b[0;32m   1750\u001b[0m called_always_called_hooks \u001b[38;5;241m=\u001b[39m \u001b[38;5;28mset\u001b[39m()\n",
      "File \u001b[1;32mc:\\Users\\79217\\Documents\\TUD\\3 semester\\Research Project\\poisson_inference\\.venv\\Lib\\site-packages\\torch\\nn\\modules\\linear.py:125\u001b[0m, in \u001b[0;36mLinear.forward\u001b[1;34m(self, input)\u001b[0m\n\u001b[0;32m    124\u001b[0m \u001b[38;5;28;01mdef\u001b[39;00m \u001b[38;5;21mforward\u001b[39m(\u001b[38;5;28mself\u001b[39m, \u001b[38;5;28minput\u001b[39m: Tensor) \u001b[38;5;241m-\u001b[39m\u001b[38;5;241m>\u001b[39m Tensor:\n\u001b[1;32m--> 125\u001b[0m     \u001b[38;5;28;01mreturn\u001b[39;00m \u001b[43mF\u001b[49m\u001b[38;5;241;43m.\u001b[39;49m\u001b[43mlinear\u001b[49m\u001b[43m(\u001b[49m\u001b[38;5;28;43minput\u001b[39;49m\u001b[43m,\u001b[49m\u001b[43m \u001b[49m\u001b[38;5;28;43mself\u001b[39;49m\u001b[38;5;241;43m.\u001b[39;49m\u001b[43mweight\u001b[49m\u001b[43m,\u001b[49m\u001b[43m \u001b[49m\u001b[38;5;28;43mself\u001b[39;49m\u001b[38;5;241;43m.\u001b[39;49m\u001b[43mbias\u001b[49m\u001b[43m)\u001b[49m\n",
      "\u001b[1;31mRuntimeError\u001b[0m: mat1 and mat2 shapes cannot be multiplied (10000x2 and 1x64)"
     ]
    }
   ],
   "source": [
    "x = X_test[0][:, 0].numpy()\n",
    "y = X_test[0][:, 1].numpy()\n",
    "x_min, x_max = x.min(), x.max()\n",
    "y_min, y_max = y.min(), y.max()\n",
    "\n",
    "x_lin = np.linspace(x_min, x_max, 100)\n",
    "y_lin = np.linspace(y_min, y_max, 100)\n",
    "xx, yy = np.meshgrid(x_lin, y_lin)\n",
    "\n",
    "grid_points = np.stack([xx.ravel(), yy.ravel()], axis=1)\n",
    "intensity_pred = model(torch.tensor(grid_points, dtype=torch.float32)).detach().numpy()\n",
    "intensity_pred_2d = intensity_pred.reshape(xx.shape)\n",
    "    \n",
    "intensity_real = kappa.item() * np.exp(-(xx**2 + yy**2) / scale**2)\n",
    "\n",
    "fig, axs = plt.subplots(1, 2, figsize=(16, 8))\n",
    "\n",
    "# Plot 1: Model-predicted intensity\n",
    "c1 = axs[0].contourf(\n",
    "    xx, yy, intensity_pred_2d, levels=50,\n",
    "    cmap='viridis', alpha=0.8, # vmin=0, vmax=1\n",
    ")\n",
    "axs[0].scatter(x, y, c='red', s=5, alpha=0.6, label='Poisson Points')\n",
    "axs[0].set_title(r'Predicted Intensity $\\rho(x)$', fontsize=16)\n",
    "axs[0].set_xlabel(r'$x$', fontsize=14)\n",
    "axs[0].set_ylabel(r'$y$', fontsize=14)\n",
    "axs[0].legend()\n",
    "axs[0].set_aspect('equal')\n",
    "axs[0].grid(True, linestyle='--', alpha=0.5)\n",
    "fig.colorbar(c1, ax=axs[0], label=\"Normalized Intensity\")\n",
    "\n",
    "# Plot 2: True intensity\n",
    "if isinstance(intensity_real, torch.Tensor):\n",
    "    intensity_real = intensity_real.numpy()\n",
    "c2 = axs[1].contourf(\n",
    "    xx, yy, intensity_real, levels=50,\n",
    "    cmap='viridis', alpha=0.7, # vmin=0, vmax=1\n",
    ")\n",
    "axs[1].scatter(x, y, c='red', s=5, alpha=0.6, label='Poisson Points')\n",
    "axs[1].set_title('True Intensity', fontsize=16)\n",
    "axs[1].set_xlabel(r'$x$', fontsize=14)\n",
    "axs[1].set_ylabel(r'$y$', fontsize=14)\n",
    "axs[1].legend()\n",
    "axs[1].set_aspect('equal')\n",
    "axs[1].grid(True, linestyle='--', alpha=0.5)\n",
    "fig.colorbar(c2, ax=axs[1], label=\"Normalized Intensity\")\n",
    "\n",
    "plt.tight_layout()"
   ]
  },
  {
   "cell_type": "code",
   "execution_count": 8,
   "metadata": {},
   "outputs": [],
   "source": [
    "def calculate_score_matching_difference(intensity_real, intensity_pred):\n",
    "    \"\"\"\n",
    "    Calculate the Score Matching Difference (SMD) between the real and predicted intensities.\n",
    "\n",
    "    Parameters:\n",
    "    - intensity_real: Flattened array of real intensity values.\n",
    "    - intensity_pred: Flattened array of predicted intensity values.\n",
    "\n",
    "    Returns:\n",
    "    - float: Score Matching Difference.\n",
    "    \"\"\"\n",
    "    # Ensure inputs are numpy arrays\n",
    "    intensity_real = np.asarray(intensity_real)\n",
    "    intensity_pred = np.asarray(intensity_pred)\n",
    "    \n",
    "    # Compute the gradient of the log intensities\n",
    "    gradient_real = np.gradient(np.log(intensity_real))\n",
    "    gradient_pred = np.gradient(np.log(intensity_pred))\n",
    "   \n",
    "    return np.sum((gradient_real - gradient_pred) ** 2)"
   ]
  },
  {
   "cell_type": "code",
   "execution_count": 512,
   "metadata": {},
   "outputs": [
    {
     "data": {
      "text/plain": [
       "np.float32(0.6190822)"
      ]
     },
     "execution_count": 512,
     "metadata": {},
     "output_type": "execute_result"
    }
   ],
   "source": [
    "smd = calculate_score_matching_difference(intensity_real.ravel(), intensity_pred.ravel())\n",
    "smd"
   ]
  },
  {
   "cell_type": "code",
   "execution_count": 513,
   "metadata": {},
   "outputs": [
    {
     "name": "stdout",
     "output_type": "stream",
     "text": [
      "Average MSE across all test samples: 0.0022092469152994454\n",
      "Average R-squared across all test samples: 0.9609979540109634\n"
     ]
    }
   ],
   "source": [
    "mse_list = []\n",
    "r2_list = []\n",
    "\n",
    "# Iterate over the test loader\n",
    "for batch in loader_test:\n",
    "    for x_test in batch[0]:\n",
    "        x_test = x_test[:, 0]\n",
    "\n",
    "        intensity_real = kappa * torch.exp(-x_test[:, None]**2 / scale**2)\n",
    "        intensity_real = np.asarray(intensity_real)\n",
    "\n",
    "        # Predict intensities using the model\n",
    "        intensity_pred = model(x_test[:, None]).squeeze().detach().numpy()\n",
    "\n",
    "        # Normalize predicted and true intensities for consistency\n",
    "        intensity_pred /= np.max(intensity_pred)\n",
    "        intensity_real /= np.max(intensity_real)\n",
    "\n",
    "        # Compute MSE and R-squared for this batch\n",
    "        mse = mean_squared_error(intensity_real, intensity_pred)\n",
    "        r2 = r2_score(intensity_real, intensity_pred)\n",
    "\n",
    "        # Append metrics to the list\n",
    "        mse_list.append(mse)\n",
    "        r2_list.append(r2)\n",
    "\n",
    "# Compute average MSE and R-squared over all test samples\n",
    "average_mse = np.mean(mse_list)\n",
    "average_r2 = np.mean(r2_list)\n",
    "\n",
    "print(f\"Average MSE across all test samples: {average_mse}\")\n",
    "print(f\"Average R-squared across all test samples: {average_r2}\")"
   ]
  },
  {
   "cell_type": "code",
   "execution_count": 317,
   "metadata": {},
   "outputs": [
    {
     "name": "stderr",
     "output_type": "stream",
     "text": [
      "C:\\Users\\79217\\AppData\\Local\\Temp\\ipykernel_7008\\1079215482.py:12: DeprecationWarning: __array_wrap__ must accept context and return_scalar arguments (positionally) in the future. (Deprecated NumPy 2.0)\n",
      "  intensity_real = kappa.item() * np.exp(-(xx**2 + yy**2) / scale**2)\n"
     ]
    },
    {
     "ename": "RuntimeError",
     "evalue": "mat1 and mat2 shapes cannot be multiplied (100x1 and 2x32)",
     "output_type": "error",
     "traceback": [
      "\u001b[1;31m---------------------------------------------------------------------------\u001b[0m",
      "\u001b[1;31mRuntimeError\u001b[0m                              Traceback (most recent call last)",
      "Cell \u001b[1;32mIn[317], line 16\u001b[0m\n\u001b[0;32m     12\u001b[0m intensity_real \u001b[38;5;241m=\u001b[39m kappa\u001b[38;5;241m.\u001b[39mitem() \u001b[38;5;241m*\u001b[39m np\u001b[38;5;241m.\u001b[39mexp(\u001b[38;5;241m-\u001b[39m(xx\u001b[38;5;241m*\u001b[39m\u001b[38;5;241m*\u001b[39m\u001b[38;5;241m2\u001b[39m \u001b[38;5;241m+\u001b[39m yy\u001b[38;5;241m*\u001b[39m\u001b[38;5;241m*\u001b[39m\u001b[38;5;241m2\u001b[39m) \u001b[38;5;241m/\u001b[39m scale\u001b[38;5;241m*\u001b[39m\u001b[38;5;241m*\u001b[39m\u001b[38;5;241m2\u001b[39m)\n\u001b[0;32m     14\u001b[0m \u001b[38;5;66;03m# Predict intensities using the model\u001b[39;00m\n\u001b[0;32m     15\u001b[0m intensity_pred \u001b[38;5;241m=\u001b[39m (\n\u001b[1;32m---> 16\u001b[0m     \u001b[43mmodel\u001b[49m\u001b[43m(\u001b[49m\u001b[43mtorch\u001b[49m\u001b[38;5;241;43m.\u001b[39;49m\u001b[43mtensor\u001b[49m\u001b[43m(\u001b[49m\u001b[43mx_lin\u001b[49m\u001b[43m[\u001b[49m\u001b[43m:\u001b[49m\u001b[43m,\u001b[49m\u001b[43m \u001b[49m\u001b[38;5;28;43;01mNone\u001b[39;49;00m\u001b[43m]\u001b[49m\u001b[43m,\u001b[49m\u001b[43m \u001b[49m\u001b[43mdtype\u001b[49m\u001b[38;5;241;43m=\u001b[39;49m\u001b[43mtorch\u001b[49m\u001b[38;5;241;43m.\u001b[39;49m\u001b[43mfloat32\u001b[49m\u001b[43m)\u001b[49m\u001b[43m)\u001b[49m\u001b[38;5;241m.\u001b[39msqueeze()\u001b[38;5;241m.\u001b[39mdetach()\u001b[38;5;241m.\u001b[39mnumpy()\n\u001b[0;32m     17\u001b[0m )\n\u001b[0;32m     19\u001b[0m \u001b[38;5;66;03m# Normalize predicted and true intensities for consistency\u001b[39;00m\n\u001b[0;32m     20\u001b[0m intensity_pred \u001b[38;5;241m/\u001b[39m\u001b[38;5;241m=\u001b[39m np\u001b[38;5;241m.\u001b[39mmax(intensity_pred)\n",
      "File \u001b[1;32mc:\\Users\\79217\\Documents\\TUD\\3 semester\\Research Project\\poisson_inference\\.venv\\Lib\\site-packages\\torch\\nn\\modules\\module.py:1736\u001b[0m, in \u001b[0;36mModule._wrapped_call_impl\u001b[1;34m(self, *args, **kwargs)\u001b[0m\n\u001b[0;32m   1734\u001b[0m     \u001b[38;5;28;01mreturn\u001b[39;00m \u001b[38;5;28mself\u001b[39m\u001b[38;5;241m.\u001b[39m_compiled_call_impl(\u001b[38;5;241m*\u001b[39margs, \u001b[38;5;241m*\u001b[39m\u001b[38;5;241m*\u001b[39mkwargs)  \u001b[38;5;66;03m# type: ignore[misc]\u001b[39;00m\n\u001b[0;32m   1735\u001b[0m \u001b[38;5;28;01melse\u001b[39;00m:\n\u001b[1;32m-> 1736\u001b[0m     \u001b[38;5;28;01mreturn\u001b[39;00m \u001b[38;5;28;43mself\u001b[39;49m\u001b[38;5;241;43m.\u001b[39;49m\u001b[43m_call_impl\u001b[49m\u001b[43m(\u001b[49m\u001b[38;5;241;43m*\u001b[39;49m\u001b[43margs\u001b[49m\u001b[43m,\u001b[49m\u001b[43m \u001b[49m\u001b[38;5;241;43m*\u001b[39;49m\u001b[38;5;241;43m*\u001b[39;49m\u001b[43mkwargs\u001b[49m\u001b[43m)\u001b[49m\n",
      "File \u001b[1;32mc:\\Users\\79217\\Documents\\TUD\\3 semester\\Research Project\\poisson_inference\\.venv\\Lib\\site-packages\\torch\\nn\\modules\\module.py:1747\u001b[0m, in \u001b[0;36mModule._call_impl\u001b[1;34m(self, *args, **kwargs)\u001b[0m\n\u001b[0;32m   1742\u001b[0m \u001b[38;5;66;03m# If we don't have any hooks, we want to skip the rest of the logic in\u001b[39;00m\n\u001b[0;32m   1743\u001b[0m \u001b[38;5;66;03m# this function, and just call forward.\u001b[39;00m\n\u001b[0;32m   1744\u001b[0m \u001b[38;5;28;01mif\u001b[39;00m \u001b[38;5;129;01mnot\u001b[39;00m (\u001b[38;5;28mself\u001b[39m\u001b[38;5;241m.\u001b[39m_backward_hooks \u001b[38;5;129;01mor\u001b[39;00m \u001b[38;5;28mself\u001b[39m\u001b[38;5;241m.\u001b[39m_backward_pre_hooks \u001b[38;5;129;01mor\u001b[39;00m \u001b[38;5;28mself\u001b[39m\u001b[38;5;241m.\u001b[39m_forward_hooks \u001b[38;5;129;01mor\u001b[39;00m \u001b[38;5;28mself\u001b[39m\u001b[38;5;241m.\u001b[39m_forward_pre_hooks\n\u001b[0;32m   1745\u001b[0m         \u001b[38;5;129;01mor\u001b[39;00m _global_backward_pre_hooks \u001b[38;5;129;01mor\u001b[39;00m _global_backward_hooks\n\u001b[0;32m   1746\u001b[0m         \u001b[38;5;129;01mor\u001b[39;00m _global_forward_hooks \u001b[38;5;129;01mor\u001b[39;00m _global_forward_pre_hooks):\n\u001b[1;32m-> 1747\u001b[0m     \u001b[38;5;28;01mreturn\u001b[39;00m \u001b[43mforward_call\u001b[49m\u001b[43m(\u001b[49m\u001b[38;5;241;43m*\u001b[39;49m\u001b[43margs\u001b[49m\u001b[43m,\u001b[49m\u001b[43m \u001b[49m\u001b[38;5;241;43m*\u001b[39;49m\u001b[38;5;241;43m*\u001b[39;49m\u001b[43mkwargs\u001b[49m\u001b[43m)\u001b[49m\n\u001b[0;32m   1749\u001b[0m result \u001b[38;5;241m=\u001b[39m \u001b[38;5;28;01mNone\u001b[39;00m\n\u001b[0;32m   1750\u001b[0m called_always_called_hooks \u001b[38;5;241m=\u001b[39m \u001b[38;5;28mset\u001b[39m()\n",
      "Cell \u001b[1;32mIn[287], line 28\u001b[0m, in \u001b[0;36mPoisson_NN.forward\u001b[1;34m(self, x)\u001b[0m\n\u001b[0;32m     25\u001b[0m \u001b[38;5;28;01mif\u001b[39;00m \u001b[38;5;28mself\u001b[39m\u001b[38;5;241m.\u001b[39mfc1 \u001b[38;5;129;01mis\u001b[39;00m \u001b[38;5;28;01mNone\u001b[39;00m \u001b[38;5;129;01mor\u001b[39;00m \u001b[38;5;28mself\u001b[39m\u001b[38;5;241m.\u001b[39mfc2 \u001b[38;5;129;01mis\u001b[39;00m \u001b[38;5;28;01mNone\u001b[39;00m:\n\u001b[0;32m     26\u001b[0m     \u001b[38;5;28mself\u001b[39m\u001b[38;5;241m.\u001b[39minitialize_layers(x\u001b[38;5;241m.\u001b[39mshape[\u001b[38;5;241m-\u001b[39m\u001b[38;5;241m1\u001b[39m])\n\u001b[1;32m---> 28\u001b[0m x \u001b[38;5;241m=\u001b[39m torch\u001b[38;5;241m.\u001b[39mtanh(\u001b[38;5;28;43mself\u001b[39;49m\u001b[38;5;241;43m.\u001b[39;49m\u001b[43mfc1\u001b[49m\u001b[43m(\u001b[49m\u001b[43mx\u001b[49m\u001b[43m)\u001b[49m)\n\u001b[0;32m     29\u001b[0m intensity \u001b[38;5;241m=\u001b[39m torch\u001b[38;5;241m.\u001b[39mnn\u001b[38;5;241m.\u001b[39mfunctional\u001b[38;5;241m.\u001b[39msoftplus(\u001b[38;5;28mself\u001b[39m\u001b[38;5;241m.\u001b[39mfc2(x))\n\u001b[0;32m     30\u001b[0m intensity \u001b[38;5;241m=\u001b[39m torch\u001b[38;5;241m.\u001b[39mexp(\u001b[38;5;28mself\u001b[39m\u001b[38;5;241m.\u001b[39mfc2(x))\n",
      "File \u001b[1;32mc:\\Users\\79217\\Documents\\TUD\\3 semester\\Research Project\\poisson_inference\\.venv\\Lib\\site-packages\\torch\\nn\\modules\\module.py:1736\u001b[0m, in \u001b[0;36mModule._wrapped_call_impl\u001b[1;34m(self, *args, **kwargs)\u001b[0m\n\u001b[0;32m   1734\u001b[0m     \u001b[38;5;28;01mreturn\u001b[39;00m \u001b[38;5;28mself\u001b[39m\u001b[38;5;241m.\u001b[39m_compiled_call_impl(\u001b[38;5;241m*\u001b[39margs, \u001b[38;5;241m*\u001b[39m\u001b[38;5;241m*\u001b[39mkwargs)  \u001b[38;5;66;03m# type: ignore[misc]\u001b[39;00m\n\u001b[0;32m   1735\u001b[0m \u001b[38;5;28;01melse\u001b[39;00m:\n\u001b[1;32m-> 1736\u001b[0m     \u001b[38;5;28;01mreturn\u001b[39;00m \u001b[38;5;28;43mself\u001b[39;49m\u001b[38;5;241;43m.\u001b[39;49m\u001b[43m_call_impl\u001b[49m\u001b[43m(\u001b[49m\u001b[38;5;241;43m*\u001b[39;49m\u001b[43margs\u001b[49m\u001b[43m,\u001b[49m\u001b[43m \u001b[49m\u001b[38;5;241;43m*\u001b[39;49m\u001b[38;5;241;43m*\u001b[39;49m\u001b[43mkwargs\u001b[49m\u001b[43m)\u001b[49m\n",
      "File \u001b[1;32mc:\\Users\\79217\\Documents\\TUD\\3 semester\\Research Project\\poisson_inference\\.venv\\Lib\\site-packages\\torch\\nn\\modules\\module.py:1747\u001b[0m, in \u001b[0;36mModule._call_impl\u001b[1;34m(self, *args, **kwargs)\u001b[0m\n\u001b[0;32m   1742\u001b[0m \u001b[38;5;66;03m# If we don't have any hooks, we want to skip the rest of the logic in\u001b[39;00m\n\u001b[0;32m   1743\u001b[0m \u001b[38;5;66;03m# this function, and just call forward.\u001b[39;00m\n\u001b[0;32m   1744\u001b[0m \u001b[38;5;28;01mif\u001b[39;00m \u001b[38;5;129;01mnot\u001b[39;00m (\u001b[38;5;28mself\u001b[39m\u001b[38;5;241m.\u001b[39m_backward_hooks \u001b[38;5;129;01mor\u001b[39;00m \u001b[38;5;28mself\u001b[39m\u001b[38;5;241m.\u001b[39m_backward_pre_hooks \u001b[38;5;129;01mor\u001b[39;00m \u001b[38;5;28mself\u001b[39m\u001b[38;5;241m.\u001b[39m_forward_hooks \u001b[38;5;129;01mor\u001b[39;00m \u001b[38;5;28mself\u001b[39m\u001b[38;5;241m.\u001b[39m_forward_pre_hooks\n\u001b[0;32m   1745\u001b[0m         \u001b[38;5;129;01mor\u001b[39;00m _global_backward_pre_hooks \u001b[38;5;129;01mor\u001b[39;00m _global_backward_hooks\n\u001b[0;32m   1746\u001b[0m         \u001b[38;5;129;01mor\u001b[39;00m _global_forward_hooks \u001b[38;5;129;01mor\u001b[39;00m _global_forward_pre_hooks):\n\u001b[1;32m-> 1747\u001b[0m     \u001b[38;5;28;01mreturn\u001b[39;00m \u001b[43mforward_call\u001b[49m\u001b[43m(\u001b[49m\u001b[38;5;241;43m*\u001b[39;49m\u001b[43margs\u001b[49m\u001b[43m,\u001b[49m\u001b[43m \u001b[49m\u001b[38;5;241;43m*\u001b[39;49m\u001b[38;5;241;43m*\u001b[39;49m\u001b[43mkwargs\u001b[49m\u001b[43m)\u001b[49m\n\u001b[0;32m   1749\u001b[0m result \u001b[38;5;241m=\u001b[39m \u001b[38;5;28;01mNone\u001b[39;00m\n\u001b[0;32m   1750\u001b[0m called_always_called_hooks \u001b[38;5;241m=\u001b[39m \u001b[38;5;28mset\u001b[39m()\n",
      "File \u001b[1;32mc:\\Users\\79217\\Documents\\TUD\\3 semester\\Research Project\\poisson_inference\\.venv\\Lib\\site-packages\\torch\\nn\\modules\\linear.py:125\u001b[0m, in \u001b[0;36mLinear.forward\u001b[1;34m(self, input)\u001b[0m\n\u001b[0;32m    124\u001b[0m \u001b[38;5;28;01mdef\u001b[39;00m \u001b[38;5;21mforward\u001b[39m(\u001b[38;5;28mself\u001b[39m, \u001b[38;5;28minput\u001b[39m: Tensor) \u001b[38;5;241m-\u001b[39m\u001b[38;5;241m>\u001b[39m Tensor:\n\u001b[1;32m--> 125\u001b[0m     \u001b[38;5;28;01mreturn\u001b[39;00m \u001b[43mF\u001b[49m\u001b[38;5;241;43m.\u001b[39;49m\u001b[43mlinear\u001b[49m\u001b[43m(\u001b[49m\u001b[38;5;28;43minput\u001b[39;49m\u001b[43m,\u001b[49m\u001b[43m \u001b[49m\u001b[38;5;28;43mself\u001b[39;49m\u001b[38;5;241;43m.\u001b[39;49m\u001b[43mweight\u001b[49m\u001b[43m,\u001b[49m\u001b[43m \u001b[49m\u001b[38;5;28;43mself\u001b[39;49m\u001b[38;5;241;43m.\u001b[39;49m\u001b[43mbias\u001b[49m\u001b[43m)\u001b[49m\n",
      "\u001b[1;31mRuntimeError\u001b[0m: mat1 and mat2 shapes cannot be multiplied (100x1 and 2x32)"
     ]
    }
   ],
   "source": [
    "mse_list = []\n",
    "r2_list = []\n",
    "\n",
    "# Iterate over the test loader\n",
    "for batch in loader_test:\n",
    "    # Assume `batch` contains the test input data\n",
    "    x_test = batch[0]\n",
    "\n",
    "    # Generate true intensity values (assuming Gaussian distribution as before)\n",
    "    x_min, x_max = x_test.min().item(), x_test.max().item()\n",
    "    x_lin = np.linspace(x_min, x_max, 100)\n",
    "    intensity_real = kappa.item() * np.exp(-(xx**2 + yy**2) / scale**2)\n",
    "\n",
    "    # Predict intensities using the model\n",
    "    intensity_pred = (\n",
    "        model(torch.tensor(x_lin[:, None], dtype=torch.float32)).squeeze().detach().numpy()\n",
    "    )\n",
    "\n",
    "    # Normalize predicted and true intensities for consistency\n",
    "    intensity_pred /= np.max(intensity_pred)\n",
    "    intensity_real /= np.max(intensity_real)\n",
    "\n",
    "    # Compute MSE and R-squared for this batch\n",
    "    mse = mean_squared_error(intensity_real, intensity_pred)\n",
    "    r2 = r2_score(intensity_real, intensity_pred)\n",
    "\n",
    "    # Append metrics to the list\n",
    "    mse_list.append(mse)\n",
    "    r2_list.append(r2)\n",
    "\n",
    "# Compute average MSE and R-squared over all test samples\n",
    "average_mse = np.mean(mse_list)\n",
    "average_r2 = np.mean(r2_list)\n",
    "\n",
    "print(f\"Average MSE across all test samples: {average_mse}\")\n",
    "print(f\"Average R-squared across all test samples: {average_r2}\")"
   ]
  },
  {
   "cell_type": "code",
   "execution_count": 19,
   "metadata": {},
   "outputs": [
    {
     "name": "stdout",
     "output_type": "stream",
     "text": [
      "Running Experiment 1/10...\n"
     ]
    },
    {
     "name": "stderr",
     "output_type": "stream",
     "text": [
      "Training: 100%|██████████| 100/100 [00:33<00:00,  2.98epoch/s, Train Loss=-0.1133, Time/Epoch=0.30s]\n"
     ]
    },
    {
     "name": "stdout",
     "output_type": "stream",
     "text": [
      "Experiment 1 - MSE: 0.005299, R²: 0.907735, SMD: 8.983774\n",
      "Running Experiment 2/10...\n"
     ]
    },
    {
     "name": "stderr",
     "output_type": "stream",
     "text": [
      "Training: 100%|██████████| 100/100 [00:33<00:00,  2.95epoch/s, Train Loss=-0.1646, Time/Epoch=0.31s]\n"
     ]
    },
    {
     "name": "stdout",
     "output_type": "stream",
     "text": [
      "Experiment 2 - MSE: 0.000993, R²: 0.982695, SMD: 4.593984\n",
      "Running Experiment 3/10...\n"
     ]
    },
    {
     "name": "stderr",
     "output_type": "stream",
     "text": [
      "Training: 100%|██████████| 100/100 [00:32<00:00,  3.12epoch/s, Train Loss=-0.1704, Time/Epoch=0.28s]\n"
     ]
    },
    {
     "name": "stdout",
     "output_type": "stream",
     "text": [
      "Experiment 3 - MSE: 0.002274, R²: 0.960799, SMD: 12.097582\n",
      "Running Experiment 4/10...\n"
     ]
    },
    {
     "name": "stderr",
     "output_type": "stream",
     "text": [
      "Training: 100%|██████████| 100/100 [00:30<00:00,  3.29epoch/s, Train Loss=-0.0888, Time/Epoch=0.32s]\n"
     ]
    },
    {
     "name": "stdout",
     "output_type": "stream",
     "text": [
      "Experiment 4 - MSE: 0.001373, R²: 0.976366, SMD: 5.923084\n",
      "Running Experiment 5/10...\n"
     ]
    },
    {
     "name": "stderr",
     "output_type": "stream",
     "text": [
      "Training: 100%|██████████| 100/100 [00:28<00:00,  3.46epoch/s, Train Loss=-0.1404, Time/Epoch=0.27s]\n"
     ]
    },
    {
     "name": "stdout",
     "output_type": "stream",
     "text": [
      "Experiment 5 - MSE: 0.001009, R²: 0.982037, SMD: 3.790532\n",
      "Running Experiment 6/10...\n"
     ]
    },
    {
     "name": "stderr",
     "output_type": "stream",
     "text": [
      "Training: 100%|██████████| 100/100 [00:29<00:00,  3.35epoch/s, Train Loss=-0.2097, Time/Epoch=0.28s]\n"
     ]
    },
    {
     "name": "stdout",
     "output_type": "stream",
     "text": [
      "Experiment 6 - MSE: 0.001531, R²: 0.973519, SMD: 2.835830\n",
      "Running Experiment 7/10...\n"
     ]
    },
    {
     "name": "stderr",
     "output_type": "stream",
     "text": [
      "Training: 100%|██████████| 100/100 [00:28<00:00,  3.53epoch/s, Train Loss=-0.1866, Time/Epoch=0.30s]\n"
     ]
    },
    {
     "name": "stdout",
     "output_type": "stream",
     "text": [
      "Experiment 7 - MSE: 0.003650, R²: 0.935495, SMD: 9.150920\n",
      "Running Experiment 8/10...\n"
     ]
    },
    {
     "name": "stderr",
     "output_type": "stream",
     "text": [
      "Training: 100%|██████████| 100/100 [00:32<00:00,  3.04epoch/s, Train Loss=-0.1809, Time/Epoch=0.40s]\n"
     ]
    },
    {
     "name": "stdout",
     "output_type": "stream",
     "text": [
      "Experiment 8 - MSE: 0.002910, R²: 0.948471, SMD: 9.504181\n",
      "Running Experiment 9/10...\n"
     ]
    },
    {
     "name": "stderr",
     "output_type": "stream",
     "text": [
      "Training: 100%|██████████| 100/100 [00:30<00:00,  3.28epoch/s, Train Loss=-0.1324, Time/Epoch=0.30s]\n"
     ]
    },
    {
     "name": "stdout",
     "output_type": "stream",
     "text": [
      "Experiment 9 - MSE: 0.001288, R²: 0.977635, SMD: 7.157164\n",
      "Running Experiment 10/10...\n"
     ]
    },
    {
     "name": "stderr",
     "output_type": "stream",
     "text": [
      "Training: 100%|██████████| 100/100 [00:29<00:00,  3.35epoch/s, Train Loss=-0.0756, Time/Epoch=0.29s]"
     ]
    },
    {
     "name": "stdout",
     "output_type": "stream",
     "text": [
      "Experiment 10 - MSE: 0.001500, R²: 0.973146, SMD: 5.946033\n",
      "\n",
      "Final Results:\n",
      "Mean MSE: 0.002183\n",
      "Mean R²: 0.961790\n",
      "Mean SMD: 6.998308\n"
     ]
    },
    {
     "name": "stderr",
     "output_type": "stream",
     "text": [
      "\n"
     ]
    }
   ],
   "source": [
    "num_experiments = 10\n",
    "mse_results = []\n",
    "r2_results = []\n",
    "smd_results = []\n",
    "\n",
    "num_samples = 100\n",
    "train_ratio = 0.8\n",
    "batch_size = 32\n",
    "\n",
    "kappa = torch.tensor(1000.0)\n",
    "scale = torch.tensor(0.6)\n",
    "\n",
    "region = (-0.5, 3)\n",
    "\n",
    "epochs = 100\n",
    "learning_rate = 1e-5\n",
    "\n",
    "weighting = True\n",
    "\n",
    "output_file = f\"outputs/poisson_weighted_results_weighting_{weighting}_num_samples_{num_samples}.txt\"\n",
    "\n",
    "\n",
    "with open(output_file, \"w\") as f:\n",
    "    f.write(f\"Poisson NN Score Matching Experiment Results\\n\")\n",
    "    f.write(f\"Number of Experiments: {num_experiments}\\n\")\n",
    "    f.write(f\"Number of Samples per Experiment: {num_samples}\\n\")\n",
    "    f.write(f\"Train Ratio: {train_ratio}\\n\")\n",
    "    f.write(f\"Batch Size: {batch_size}\\n\\n\")\n",
    "    f.write(f\"Weighting: {weighting}\\n\\n\")\n",
    "    for exp in range(num_experiments):\n",
    "        print(f\"Running Experiment {exp + 1}/{num_experiments}...\")\n",
    "\n",
    "        # Generate new Poisson process samples\n",
    "        samples = [torch.tensor(generate_poisson_points_1d(kappa, scale, region)).unsqueeze(-1) for _ in range(num_samples)]\n",
    "        samples_torch = [torch.tensor(s, dtype=torch.float32) for s in samples]\n",
    "\n",
    "        # Prepare training and test data\n",
    "        X = pad_sequence(samples_torch, batch_first=True, padding_value=0)\n",
    "        lengths = torch.tensor([len(s) for s in samples_torch], dtype=torch.int64)\n",
    "        lengths_expanded = lengths.unsqueeze(-1).expand(-1, X.shape[1])\n",
    "        X = torch.cat((X, lengths_expanded.unsqueeze(-1)), dim=-1)\n",
    "\n",
    "        m = len(X)\n",
    "        train_size = int(train_ratio * m)\n",
    "\n",
    "        X_train = X[:train_size]\n",
    "        X_test = X[train_size:]\n",
    "\n",
    "        loader_train = FastTensorDataLoader(X_train, batch_size=batch_size, shuffle=True)\n",
    "        loader_test = FastTensorDataLoader(X_test, batch_size=batch_size, shuffle=False)\n",
    "\n",
    "        # Train model\n",
    "        model, train_losses = optimize_nn(\n",
    "            loader_train, Poisson_NN, num_epochs=epochs, learning_rate=learning_rate, weighting=weighting\n",
    "        )\n",
    "\n",
    "        mse_list = []\n",
    "        r2_list = []\n",
    "\n",
    "        # Iterate over the test loader\n",
    "        for batch in loader_test:\n",
    "            for x_test in batch[0]:\n",
    "                x_test = x_test[:, 0]\n",
    "\n",
    "                intensity_real = kappa * torch.exp(-x_test[:, None]**2 / scale**2)\n",
    "                intensity_real = np.asarray(intensity_real)\n",
    "\n",
    "                # Predict intensities using the model\n",
    "                intensity_pred = model(x_test[:, None]).squeeze().detach().numpy()\n",
    "\n",
    "                # Normalize predicted and true intensities for consistency\n",
    "                intensity_pred /= np.max(intensity_pred)\n",
    "                intensity_real /= np.max(intensity_real)\n",
    "\n",
    "                # Compute MSE and R²\n",
    "                mse = mean_squared_error(intensity_real, intensity_pred)\n",
    "                r2 = r2_score(intensity_real, intensity_pred)\n",
    "\n",
    "                mse_list.append(mse)\n",
    "                r2_list.append(r2)\n",
    "\n",
    "        # Compute average MSE and R² for this experiment\n",
    "        avg_mse = np.mean(mse_list)\n",
    "        avg_r2 = np.mean(r2_list)\n",
    "\n",
    "        # Compute SMD\n",
    "        smd = calculate_score_matching_difference(intensity_real.ravel(), intensity_pred.ravel())\n",
    "\n",
    "        # Store results\n",
    "        mse_results.append(avg_mse)\n",
    "        r2_results.append(avg_r2)\n",
    "        smd_results.append(smd)\n",
    "\n",
    "        print(f\"Experiment {exp + 1} - MSE: {avg_mse:.6f}, R²: {avg_r2:.6f}, SMD: {smd:.6f}\")\n",
    "\n",
    "    # Compute final average metrics across all experiments\n",
    "    final_mse = np.mean(mse_results)\n",
    "    final_r2 = np.mean(r2_results)\n",
    "    final_smd = np.mean(smd_results)\n",
    "    \n",
    "    f.write(\"\\nFinal Results:\\n\")\n",
    "    f.write(f\"Mean MSE: {final_mse:.6f}\\n\")\n",
    "    f.write(f\"Mean R²: {final_r2:.6f}\\n\")\n",
    "    f.write(f\"Mean SMD: {final_smd:.6f}\\n\")\n",
    "\n",
    "print(\"\\nFinal Results:\")\n",
    "print(f\"Mean MSE: {final_mse:.6f}\")\n",
    "print(f\"Mean R²: {final_r2:.6f}\")\n",
    "print(f\"Mean SMD: {final_smd:.6f}\")"
   ]
  },
  {
   "cell_type": "code",
   "execution_count": null,
   "metadata": {},
   "outputs": [],
   "source": []
  }
 ],
 "metadata": {
  "kernelspec": {
   "display_name": ".venv",
   "language": "python",
   "name": "python3"
  },
  "language_info": {
   "codemirror_mode": {
    "name": "ipython",
    "version": 3
   },
   "file_extension": ".py",
   "mimetype": "text/x-python",
   "name": "python",
   "nbconvert_exporter": "python",
   "pygments_lexer": "ipython3",
   "version": "3.12.8"
  }
 },
 "nbformat": 4,
 "nbformat_minor": 2
}
