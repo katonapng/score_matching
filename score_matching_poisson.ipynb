{
 "cells": [
  {
   "cell_type": "code",
   "execution_count": 1,
   "metadata": {},
   "outputs": [],
   "source": [
    "import time\n",
    "\n",
    "import matplotlib.pyplot as plt\n",
    "import numpy as np\n",
    "import torch\n",
    "import torch.nn as nn\n",
    "from scipy.integrate import dblquad\n",
    "from torch.nn.utils.rnn import pad_sequence\n",
    "from tqdm import tqdm\n",
    "\n",
    "from dataloader import FastTensorDataLoader"
   ]
  },
  {
   "cell_type": "markdown",
   "metadata": {},
   "source": [
    "# Poisson Point Processes"
   ]
  },
  {
   "cell_type": "markdown",
   "metadata": {},
   "source": [
    "## Data Generation"
   ]
  },
  {
   "cell_type": "code",
   "execution_count": 2,
   "metadata": {},
   "outputs": [],
   "source": [
    "def generate_poisson_points(kappa, scale, region):\n",
    "    \"\"\"\n",
    "    Generate a Poisson Point Process in a 2D region based on intensity function.\n",
    "    \n",
    "    Parameters:\n",
    "    - kappa (torch.Tensor): The intensity parameter (scalar or vector).\n",
    "    - scale (torch.Tensor): The scale parameter (scalar or vector).\n",
    "    - region (tuple): The spatial domain as ((xmin, xmax), (ymin, ymax)).\n",
    "    - num_samples (int): Number of candidate points to sample for rejection sampling.\n",
    "    \n",
    "    Returns:\n",
    "    - points (numpy.ndarray): The simulated points of the PPP.\n",
    "    \"\"\"\n",
    "    (xmin, xmax), (ymin, ymax) = region\n",
    "\n",
    "    area = (xmax - xmin) * (ymax - ymin)\n",
    "    max_intensity = kappa * area  # Maximum value of intensity\n",
    "    num_samples = np.random.poisson(lam=max_intensity)[0]\n",
    "\n",
    "    x_candidates = np.random.uniform(xmin, xmax, size=num_samples)\n",
    "    y_candidates = np.random.uniform(ymin, ymax, size=num_samples)\n",
    "    candidates = torch.tensor(np.stack([x_candidates, y_candidates], axis=1), dtype=torch.float32)\n",
    "    \n",
    "    squared_norm = torch.sum(candidates**2, dim=-1)\n",
    "    intensity = kappa * torch.exp(-squared_norm / scale**2)\n",
    "    \n",
    "    uniform_samples = torch.rand(num_samples)  # Uniform samples for rejection\n",
    "    acceptance_mask = uniform_samples < (intensity / kappa)\n",
    "    \n",
    "    accepted_points = candidates[acceptance_mask]\n",
    "    return accepted_points.numpy()"
   ]
  },
  {
   "cell_type": "code",
   "execution_count": 26,
   "metadata": {},
   "outputs": [],
   "source": [
    "kappa = torch.tensor([100.0])\n",
    "scale = torch.tensor([0.5])\n",
    "\n",
    "region = ((0, 1), (0, 1))  # A square domain in 2D"
   ]
  },
  {
   "cell_type": "code",
   "execution_count": 27,
   "metadata": {},
   "outputs": [],
   "source": [
    "num_samples = 10000\n",
    "samples = []\n",
    "x_test = None\n",
    "for _ in range(num_samples):\n",
    "    x_t = generate_poisson_points(kappa, scale, region)\n",
    "    if x_test is None:\n",
    "        x_test = x_t.copy()\n",
    "    samples.append(torch.tensor(x_t))"
   ]
  },
  {
   "cell_type": "code",
   "execution_count": 28,
   "metadata": {},
   "outputs": [],
   "source": [
    "X = pad_sequence(samples, batch_first=True, padding_value=0)\n",
    "lengths = torch.tensor([len(s) for s in samples], dtype=torch.int64)\n",
    "\n",
    "lengths_expanded = lengths.unsqueeze(-1).expand(-1, X.shape[1])\n",
    "X = torch.cat((X, lengths_expanded.unsqueeze(-1)), dim=-1)\n",
    "\n",
    "X_train = X[:100]\n",
    "X_val = X[100:150]\n",
    "loader_train = FastTensorDataLoader(X_train, batch_size=1000, shuffle=False)\n",
    "loader_val = FastTensorDataLoader(X_val, batch_size=1000, shuffle=False)"
   ]
  },
  {
   "cell_type": "code",
   "execution_count": 29,
   "metadata": {},
   "outputs": [
    {
     "data": {
      "image/png": "[encoded data removed]",
      "text/plain": [
       "<Figure size 640x480 with 1 Axes>"
      ]
     },
     "metadata": {},
     "output_type": "display_data"
    }
   ],
   "source": [
    "plt.scatter(x_test[:, 0], x_test[:, 1], alpha=0.6, edgecolor='k')\n",
    "plt.title(\"Simulated Poisson Point Process\")\n",
    "plt.xlabel(\"x\")\n",
    "plt.ylabel(\"y\")\n",
    "plt.show()"
   ]
  },
  {
   "cell_type": "markdown",
   "metadata": {},
   "source": [
    "## Optimization function"
   ]
  },
  {
   "cell_type": "code",
   "execution_count": 30,
   "metadata": {},
   "outputs": [],
   "source": [
    "def optimize_theta(loader_train, nn_model, num_epochs=1000, learning_rate=1e-3):\n",
    "    \"\"\"\n",
    "    Optimizes the model parameters.\n",
    "\n",
    "    Args:\n",
    "        loader_train (DataLoader): DataLoader for training data.\n",
    "        nn_model (callable): Function that creates the neural network model.\n",
    "        num_epochs (int): Number of training epochs.\n",
    "        learning_rate (float): Learning rate.\n",
    "\n",
    "    Returns:\n",
    "        tuple: (trained model, losses)\n",
    "    \"\"\"\n",
    "    model = nn_model()\n",
    "    optimizer = torch.optim.Rprop(model.parameters(), lr=learning_rate)\n",
    "    losses = []\n",
    "\n",
    "    for epoch in range(num_epochs):\n",
    "        for X_batch in loader_train:\n",
    "            optimizer.zero_grad()\n",
    "\n",
    "            loss = model.loss(X_batch[0])\n",
    "\n",
    "            loss.backward()\n",
    "            optimizer.step()\n",
    "\n",
    "            losses.append(loss.item())\n",
    "            print(f\"Epoch {epoch}/{num_epochs}, Loss: {loss.item()}\")\n",
    "\n",
    "    return model, losses\n"
   ]
  },
  {
   "cell_type": "markdown",
   "metadata": {},
   "source": [
    "## Poisson Model"
   ]
  },
  {
   "cell_type": "code",
   "execution_count": 33,
   "metadata": {},
   "outputs": [],
   "source": [
    "class Poisson(nn.Module):\n",
    "    def __init__(self):\n",
    "        super().__init__()\n",
    "        self.scale = nn.Parameter(torch.tensor([torch.abs(torch.randn(1))], dtype=torch.float32))\n",
    "\n",
    "    def forward(self, x):\n",
    "        squared_norm = torch.sum(x**2, dim=-1)\n",
    "        return - squared_norm / self.scale**2\n",
    "\n",
    "    def compute_psi(self, x):\n",
    "        x.requires_grad_()\n",
    "        nn_output = self.forward(x)\n",
    "        psi = torch.autograd.grad(nn_output, x, grad_outputs=torch.ones_like(nn_output), create_graph=True)[0]\n",
    "        return psi\n",
    "\n",
    "    def loss(self, points):\n",
    "        lengths = points[:, 0, -1].to(dtype=torch.int64)\n",
    "        max_length = lengths.max()\n",
    "        x_t = points[:, :max_length, :-1]  # Pad to max length in batch\n",
    " \n",
    "        psi_x = self.compute_psi(x_t)\n",
    "        norm_squared = (psi_x ** 2).sum(dim=-1)  # Sum across all dimensions\n",
    "\n",
    "        # padded values give none zero divergence -> mask \n",
    "        mask = torch.arange(max_length, device=x_t.device).unsqueeze(0) < lengths.unsqueeze(1)\n",
    "        divergence = 0\n",
    "        for i in range(x_t.shape[-1]):  # Iterate over the features of x\n",
    "            gradient = torch.autograd.grad(psi_x[..., i].sum(), x_t, retain_graph=True, create_graph=True)[0]\n",
    "            divergence += gradient[..., i]  # Sum over each feature dimension\n",
    "        \n",
    "        divergence = divergence * mask\n",
    "        total_loss = 0.5 * norm_squared + divergence\n",
    "        total_loss = total_loss.sum(dim=-1)/lengths  # Sum over the time dimension\n",
    "        \n",
    "        return total_loss.mean()"
   ]
  },
  {
   "cell_type": "markdown",
   "metadata": {},
   "source": [
    "### Batch processing"
   ]
  },
  {
   "cell_type": "code",
   "execution_count": 39,
   "metadata": {},
   "outputs": [
    {
     "name": "stdout",
     "output_type": "stream",
     "text": [
      "Epoch 0/100, Loss: -6.887706756591797\n",
      "Epoch 1/100, Loss: -7.333472728729248\n",
      "Epoch 2/100, Loss: -7.738385200500488\n",
      "Epoch 3/100, Loss: -8.073716163635254\n",
      "Epoch 4/100, Loss: -8.308950424194336\n",
      "Epoch 5/100, Loss: -8.414998054504395\n",
      "Epoch 6/100, Loss: -8.368256568908691\n",
      "Epoch 7/100, Loss: -8.368256568908691\n",
      "Epoch 8/100, Loss: -8.410776138305664\n",
      "Epoch 9/100, Loss: -8.410412788391113\n",
      "Epoch 10/100, Loss: -8.410412788391113\n",
      "Epoch 11/100, Loss: -8.41849136352539\n",
      "Epoch 12/100, Loss: -8.41849136352539\n",
      "Epoch 13/100, Loss: -8.41656494140625\n",
      "Epoch 14/100, Loss: -8.41656494140625\n",
      "Epoch 15/100, Loss: -8.418038368225098\n",
      "Epoch 16/100, Loss: -8.418463706970215\n",
      "Epoch 17/100, Loss: -8.418463706970215\n",
      "Epoch 18/100, Loss: -8.41843032836914\n",
      "Epoch 19/100, Loss: -8.41843032836914\n",
      "Epoch 20/100, Loss: -8.41849136352539\n",
      "Epoch 21/100, Loss: -8.41844654083252\n",
      "Epoch 22/100, Loss: -8.41844654083252\n",
      "Epoch 23/100, Loss: -8.418484687805176\n",
      "Epoch 24/100, Loss: -8.418488502502441\n",
      "Epoch 25/100, Loss: -8.418488502502441\n",
      "Epoch 26/100, Loss: -8.41849136352539\n",
      "Epoch 27/100, Loss: -8.41849136352539\n",
      "Epoch 28/100, Loss: -8.41849136352539\n",
      "Epoch 29/100, Loss: -8.41849136352539\n",
      "Epoch 30/100, Loss: -8.418493270874023\n",
      "Epoch 31/100, Loss: -8.41849136352539\n",
      "Epoch 32/100, Loss: -8.41849136352539\n",
      "Epoch 33/100, Loss: -8.418492317199707\n",
      "Epoch 34/100, Loss: -8.418492317199707\n",
      "Epoch 35/100, Loss: -8.418492317199707\n",
      "Epoch 36/100, Loss: -8.418492317199707\n",
      "Epoch 37/100, Loss: -8.418493270874023\n",
      "Epoch 38/100, Loss: -8.418493270874023\n",
      "Epoch 39/100, Loss: -8.418493270874023\n",
      "Epoch 40/100, Loss: -8.418492317199707\n",
      "Epoch 41/100, Loss: -8.418492317199707\n",
      "Epoch 42/100, Loss: -8.418493270874023\n",
      "Epoch 43/100, Loss: -8.418493270874023\n",
      "Epoch 44/100, Loss: -8.418493270874023\n",
      "Epoch 45/100, Loss: -8.418493270874023\n",
      "Epoch 46/100, Loss: -8.418493270874023\n",
      "Epoch 47/100, Loss: -8.418493270874023\n",
      "Epoch 48/100, Loss: -8.418493270874023\n",
      "Epoch 49/100, Loss: -8.418493270874023\n",
      "Epoch 50/100, Loss: -8.418493270874023\n",
      "Epoch 51/100, Loss: -8.418493270874023\n",
      "Epoch 52/100, Loss: -8.418493270874023\n",
      "Epoch 53/100, Loss: -8.418493270874023\n",
      "Epoch 54/100, Loss: -8.418493270874023\n",
      "Epoch 55/100, Loss: -8.418493270874023\n",
      "Epoch 56/100, Loss: -8.418493270874023\n",
      "Epoch 57/100, Loss: -8.418493270874023\n",
      "Epoch 58/100, Loss: -8.418493270874023\n",
      "Epoch 59/100, Loss: -8.418493270874023\n",
      "Epoch 60/100, Loss: -8.418493270874023\n",
      "Epoch 61/100, Loss: -8.418493270874023\n",
      "Epoch 62/100, Loss: -8.418493270874023\n",
      "Epoch 63/100, Loss: -8.418493270874023\n",
      "Epoch 64/100, Loss: -8.418493270874023\n",
      "Epoch 65/100, Loss: -8.418493270874023\n",
      "Epoch 66/100, Loss: -8.418493270874023\n",
      "Epoch 67/100, Loss: -8.418493270874023\n",
      "Epoch 68/100, Loss: -8.418493270874023\n",
      "Epoch 69/100, Loss: -8.418493270874023\n",
      "Epoch 70/100, Loss: -8.418493270874023\n",
      "Epoch 71/100, Loss: -8.418493270874023\n",
      "Epoch 72/100, Loss: -8.418493270874023\n",
      "Epoch 73/100, Loss: -8.418493270874023\n",
      "Epoch 74/100, Loss: -8.418493270874023\n",
      "Epoch 75/100, Loss: -8.418493270874023\n",
      "Epoch 76/100, Loss: -8.418493270874023\n",
      "Epoch 77/100, Loss: -8.418493270874023\n",
      "Epoch 78/100, Loss: -8.418493270874023\n",
      "Epoch 79/100, Loss: -8.418493270874023\n",
      "Epoch 80/100, Loss: -8.418493270874023\n",
      "Epoch 81/100, Loss: -8.418493270874023\n",
      "Epoch 82/100, Loss: -8.418493270874023\n",
      "Epoch 83/100, Loss: -8.418493270874023\n",
      "Epoch 84/100, Loss: -8.418493270874023\n",
      "Epoch 85/100, Loss: -8.418493270874023\n",
      "Epoch 86/100, Loss: -8.418493270874023\n",
      "Epoch 87/100, Loss: -8.418493270874023\n",
      "Epoch 88/100, Loss: -8.418493270874023\n",
      "Epoch 89/100, Loss: -8.418493270874023\n",
      "Epoch 90/100, Loss: -8.418493270874023\n",
      "Epoch 91/100, Loss: -8.418493270874023\n",
      "Epoch 92/100, Loss: -8.418493270874023\n",
      "Epoch 93/100, Loss: -8.418493270874023\n",
      "Epoch 94/100, Loss: -8.418493270874023\n",
      "Epoch 95/100, Loss: -8.418493270874023\n",
      "Epoch 96/100, Loss: -8.418493270874023\n",
      "Epoch 97/100, Loss: -8.418493270874023\n",
      "Epoch 98/100, Loss: -8.418493270874023\n",
      "Epoch 99/100, Loss: -8.418493270874023\n",
      "Execution Time: 0.55 seconds\n"
     ]
    }
   ],
   "source": [
    "start_time = time.time()\n",
    "epochs = 100\n",
    "model, losses = optimize_theta(\n",
    "    loader_train, Poisson, num_epochs=epochs, learning_rate=1e-2,\n",
    ")\n",
    "end_time = time.time()\n",
    "\n",
    "elapsed_time = end_time - start_time\n",
    "print(f\"Execution Time: {elapsed_time:.2f} seconds\")"
   ]
  },
  {
   "cell_type": "code",
   "execution_count": 35,
   "metadata": {},
   "outputs": [
    {
     "data": {
      "image/png": "[encoded data removed]",
      "text/plain": [
       "<Figure size 640x480 with 1 Axes>"
      ]
     },
     "metadata": {},
     "output_type": "display_data"
    }
   ],
   "source": [
    "plt.plot(losses, label=\"Score matching loss\")\n",
    "plt.xlabel('Epoch')\n",
    "plt.ylabel('Loss')\n",
    "plt.title('Loss Convergence for Score Matching')\n",
    "plt.legend()\n",
    "plt.show()\n"
   ]
  },
  {
   "cell_type": "code",
   "execution_count": 36,
   "metadata": {},
   "outputs": [
    {
     "name": "stdout",
     "output_type": "stream",
     "text": [
      "Estimated scale: Parameter containing:\n",
      "tensor([0.4874], requires_grad=True)\n",
      "True scale: tensor([0.5000])\n"
     ]
    }
   ],
   "source": [
    "print(\"Estimated scale:\", model.scale)\n",
    "print(\"True scale:\", scale)"
   ]
  },
  {
   "cell_type": "markdown",
   "metadata": {},
   "source": [
    "### Kappa Inference"
   ]
  },
  {
   "cell_type": "code",
   "execution_count": 37,
   "metadata": {},
   "outputs": [],
   "source": [
    "def infer_kappa(x_t, sigma, region):\n",
    "    \"\"\"\n",
    "    Infers the parameter kappa for the Poisson Point Process intensity function\n",
    "    given the data x_t and the known scale parameter sigma.\n",
    "    \n",
    "    Args:\n",
    "    - x_t: numpy array of shape (n, d), where n is the number of data points and d is the dimension of the data.\n",
    "    - sigma: the known scale parameter (positive real number).\n",
    "    \n",
    "    Returns:\n",
    "    - kappa: the inferred scaling factor for the intensity function.\n",
    "    \"\"\"\n",
    "    (a1, b1), (a2, b2) = region\n",
    "    n = len(x_t)\n",
    "    \n",
    "    def integrand(x0, x1, sigma):\n",
    "        return np.exp(-(x0**2 + x1**2) / sigma**2)\n",
    "\n",
    "    integral_result, _ = dblquad(integrand, a1, b1, lambda x0: a2, lambda x0: b2, args=(sigma,))\n",
    "    \n",
    "    kappa = n / integral_result\n",
    "    return kappa"
   ]
  },
  {
   "cell_type": "code",
   "execution_count": 38,
   "metadata": {},
   "outputs": [
    {
     "name": "stdout",
     "output_type": "stream",
     "text": [
      "Inferred kappa: 134.9848623088812\n"
     ]
    }
   ],
   "source": [
    "kappa = infer_kappa(x_t, model.scale.detach().numpy(), region)\n",
    "print(f\"Inferred kappa: {kappa}\")"
   ]
  },
  {
   "cell_type": "markdown",
   "metadata": {},
   "source": [
    "## Neural Network Poisson Model\n"
   ]
  },
  {
   "cell_type": "code",
   "execution_count": null,
   "metadata": {},
   "outputs": [],
   "source": [
    "class Poisson_NN(nn.Module):\n",
    "    def __init__(self, input_dim=2, hidden_dim=10, output_dim=1):\n",
    "        super().__init__()\n",
    "        self.intensity = nn.Parameter(torch.tensor([np.abs(np.random.randn())], dtype=torch.float32))\n",
    "        \n",
    "        self.fc1 = nn.Linear(input_dim, hidden_dim)\n",
    "        self.fc2 = nn.Linear(hidden_dim, output_dim)\n",
    "        \n",
    "    def forward(self, x):\n",
    "        x = torch.relu(self.fc1(x))\n",
    "        intensity = self.fc2(x)\n",
    "        return torch.exp(intensity)\n",
    "    \n",
    "    def compute_psi(self, x):\n",
    "        x.requires_grad_()\n",
    "        nn_output = self.forward(x)\n",
    "        psi = torch.autograd.grad(nn_output, x, grad_outputs=torch.ones_like(nn_output), create_graph=True)[0]\n",
    "        return psi\n",
    "\n",
    "    def loss(self, points):\n",
    "        lengths = points[:, 0, -1].to(dtype=torch.int64)\n",
    "        x_t = points[:, :lengths.max(), :-1]  # Pad to max length in batch\n",
    " \n",
    "        psi_x = self.compute_psi(x_t)\n",
    "        norm_squared = (psi_x ** 2).sum(dim=-1)  # Sum across all dimensions\n",
    "\n",
    "        divergence = 0\n",
    "        for i in range(x_t.shape[-1]):  # Iterate over the features of x\n",
    "            gradient = torch.autograd.grad(psi_x[..., i].sum(), x_t, retain_graph=True, create_graph=True)[0]\n",
    "            divergence += gradient[..., i]  # Sum over each feature dimension\n",
    "        \n",
    "        total_loss = 0.5 * norm_squared + divergence\n",
    "        total_loss = total_loss.sum(dim=-1)  # Sum over the time dimension\n",
    "        \n",
    "        return total_loss.mean()"
   ]
  },
  {
   "cell_type": "code",
   "execution_count": 100,
   "metadata": {},
   "outputs": [
    {
     "name": "stdout",
     "output_type": "stream",
     "text": [
      "Epoch 0/100, Loss: 9.800891876220703\n",
      "Epoch 1/100, Loss: 9.572905540466309\n",
      "Epoch 2/100, Loss: 9.304296493530273\n",
      "Epoch 3/100, Loss: 8.989048957824707\n",
      "Epoch 4/100, Loss: 8.620810508728027\n",
      "Epoch 5/100, Loss: 8.193161964416504\n",
      "Epoch 6/100, Loss: 7.700069427490234\n",
      "Epoch 7/100, Loss: 7.136363983154297\n",
      "Epoch 8/100, Loss: 6.498868465423584\n",
      "Epoch 9/100, Loss: 5.788050651550293\n",
      "Epoch 10/100, Loss: 5.009031772613525\n",
      "Epoch 11/100, Loss: 4.174185276031494\n",
      "Epoch 12/100, Loss: 3.3063852787017822\n",
      "Epoch 13/100, Loss: 2.4343416690826416\n",
      "Epoch 14/100, Loss: 1.584862232208252\n",
      "Epoch 15/100, Loss: 0.7720220685005188\n",
      "Epoch 16/100, Loss: -0.04365512356162071\n",
      "Epoch 17/100, Loss: -0.8946564197540283\n",
      "Epoch 18/100, Loss: -1.8421684503555298\n",
      "Epoch 19/100, Loss: -2.999910831451416\n",
      "Epoch 20/100, Loss: -4.4993486404418945\n",
      "Epoch 21/100, Loss: -6.628369331359863\n",
      "Epoch 22/100, Loss: -9.830718040466309\n",
      "Epoch 23/100, Loss: -14.768641471862793\n",
      "Epoch 24/100, Loss: -23.161592483520508\n",
      "Epoch 25/100, Loss: -39.1743278503418\n",
      "Epoch 26/100, Loss: -72.17298126220703\n",
      "Epoch 27/100, Loss: -145.91258239746094\n",
      "Epoch 28/100, Loss: -325.6110534667969\n",
      "Epoch 29/100, Loss: -796.3834228515625\n",
      "Epoch 30/100, Loss: -1985.102783203125\n",
      "Epoch 31/100, Loss: -3317.115234375\n",
      "Epoch 32/100, Loss: 2323.983642578125\n",
      "Epoch 33/100, Loss: -1818.4454345703125\n",
      "Epoch 34/100, Loss: -2983.939453125\n",
      "Epoch 35/100, Loss: -3941.977783203125\n",
      "Epoch 36/100, Loss: -3590.657470703125\n",
      "Epoch 37/100, Loss: -3848.483642578125\n",
      "Epoch 38/100, Loss: -4167.13623046875\n",
      "Epoch 39/100, Loss: -4413.97998046875\n",
      "Epoch 40/100, Loss: -4057.6865234375\n",
      "Epoch 41/100, Loss: -4143.07275390625\n",
      "Epoch 42/100, Loss: -4489.92236328125\n",
      "Epoch 43/100, Loss: -4482.3701171875\n",
      "Epoch 44/100, Loss: -4516.42333984375\n",
      "Epoch 45/100, Loss: -4603.29736328125\n",
      "Epoch 46/100, Loss: -4621.89111328125\n",
      "Epoch 47/100, Loss: -4664.75537109375\n",
      "Epoch 48/100, Loss: -4717.72705078125\n",
      "Epoch 49/100, Loss: -4761.0302734375\n",
      "Epoch 50/100, Loss: -4810.681640625\n",
      "Epoch 51/100, Loss: -4864.5673828125\n",
      "Epoch 52/100, Loss: -4924.79736328125\n",
      "Epoch 53/100, Loss: -4992.17626953125\n",
      "Epoch 54/100, Loss: -5063.841796875\n",
      "Epoch 55/100, Loss: -5135.99365234375\n",
      "Epoch 56/100, Loss: -5201.85986328125\n",
      "Epoch 57/100, Loss: -5235.69189453125\n",
      "Epoch 58/100, Loss: -5267.01318359375\n",
      "Epoch 59/100, Loss: -5271.48046875\n",
      "Epoch 60/100, Loss: -5298.91455078125\n",
      "Epoch 61/100, Loss: -5310.40234375\n",
      "Epoch 62/100, Loss: -5318.25927734375\n",
      "Epoch 63/100, Loss: -5333.28369140625\n",
      "Epoch 64/100, Loss: -5344.5830078125\n",
      "Epoch 65/100, Loss: -5361.2724609375\n",
      "Epoch 66/100, Loss: -5380.0361328125\n",
      "Epoch 67/100, Loss: -5401.2998046875\n",
      "Epoch 68/100, Loss: -5426.9404296875\n",
      "Epoch 69/100, Loss: -5458.07080078125\n",
      "Epoch 70/100, Loss: -5495.51611328125\n",
      "Epoch 71/100, Loss: -5540.2314453125\n",
      "Epoch 72/100, Loss: -5592.38623046875\n",
      "Epoch 73/100, Loss: -5637.1162109375\n",
      "Epoch 74/100, Loss: -5589.10302734375\n",
      "Epoch 75/100, Loss: -5707.1162109375\n",
      "Epoch 76/100, Loss: -5705.7705078125\n",
      "Epoch 77/100, Loss: -5755.3349609375\n",
      "Epoch 78/100, Loss: -5850.10498046875\n",
      "Epoch 79/100, Loss: -5872.2001953125\n",
      "Epoch 80/100, Loss: -5920.16064453125\n",
      "Epoch 81/100, Loss: -5981.00390625\n",
      "Epoch 82/100, Loss: -6033.9375\n",
      "Epoch 83/100, Loss: -6097.53369140625\n",
      "Epoch 84/100, Loss: -6173.70166015625\n",
      "Epoch 85/100, Loss: -6265.1650390625\n",
      "Epoch 86/100, Loss: -6357.48193359375\n",
      "Epoch 87/100, Loss: -6459.07861328125\n",
      "Epoch 88/100, Loss: -6567.25244140625\n",
      "Epoch 89/100, Loss: -6688.8955078125\n",
      "Epoch 90/100, Loss: -6830.25244140625\n",
      "Epoch 91/100, Loss: -6982.03271484375\n",
      "Epoch 92/100, Loss: -7131.974609375\n",
      "Epoch 93/100, Loss: -7311.28076171875\n",
      "Epoch 94/100, Loss: -7499.953125\n",
      "Epoch 95/100, Loss: -7709.14990234375\n",
      "Epoch 96/100, Loss: -7900.47265625\n",
      "Epoch 97/100, Loss: -8091.5068359375\n",
      "Epoch 98/100, Loss: -8390.2451171875\n",
      "Epoch 99/100, Loss: -8666.97265625\n",
      "Execution Time: 3.38 seconds\n"
     ]
    }
   ],
   "source": [
    "start_time = time.time()\n",
    "epochs = 100\n",
    "model, losses = optimize_theta(\n",
    "    loader_train, Poisson_NN, num_epochs=epochs, learning_rate=1e-3,\n",
    ")\n",
    "end_time = time.time()\n",
    "\n",
    "elapsed_time = end_time - start_time\n",
    "print(f\"Execution Time: {elapsed_time:.2f} seconds\")"
   ]
  },
  {
   "cell_type": "code",
   "execution_count": 86,
   "metadata": {},
   "outputs": [],
   "source": [
    "def compute_intensity(points, kappa, scale):\n",
    "    squared_norm = torch.sum(points**2, dim=-1)\n",
    "    intensity = kappa * torch.exp(-squared_norm / scale**2)\n",
    "    return intensity"
   ]
  },
  {
   "cell_type": "code",
   "execution_count": 87,
   "metadata": {},
   "outputs": [],
   "source": [
    "def calculate_mean_intensity(samples, kappa, scale):\n",
    "    total_intensity = 0\n",
    "    total_points = 0\n",
    "    \n",
    "    for sample in samples:\n",
    "        # Compute intensity for each point in the sample\n",
    "        intensities = compute_intensity(sample, kappa, scale)\n",
    "        total_intensity += intensities.sum()\n",
    "        total_points += len(sample)\n",
    "    \n",
    "    # Average intensity per sample\n",
    "    mean_intensity = total_intensity / total_points\n",
    "    return mean_intensity"
   ]
  },
  {
   "cell_type": "code",
   "execution_count": 98,
   "metadata": {},
   "outputs": [],
   "source": [
    "intensity = calculate_mean_intensity(samples, kappa, scale)"
   ]
  },
  {
   "cell_type": "code",
   "execution_count": 101,
   "metadata": {},
   "outputs": [
    {
     "name": "stdout",
     "output_type": "stream",
     "text": [
      "Estimated intensity: Parameter containing:\n",
      "tensor([0.0528], requires_grad=True)\n",
      "True intensity: tensor(504.7337)\n"
     ]
    }
   ],
   "source": [
    "print(\"Estimated intensity:\", model.intensity)\n",
    "print(\"True intensity:\", intensity)"
   ]
  },
  {
   "cell_type": "code",
   "execution_count": null,
   "metadata": {},
   "outputs": [],
   "source": []
  }
 ],
 "metadata": {
  "kernelspec": {
   "display_name": ".venv",
   "language": "python",
   "name": "python3"
  },
  "language_info": {
   "codemirror_mode": {
    "name": "ipython",
    "version": 3
   },
   "file_extension": ".py",
   "mimetype": "text/x-python",
   "name": "python",
   "nbconvert_exporter": "python",
   "pygments_lexer": "ipython3",
   "version": "3.12.7"
  }
 },
 "nbformat": 4,
 "nbformat_minor": 2
}
